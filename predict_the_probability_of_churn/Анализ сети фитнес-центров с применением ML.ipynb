{
 "cells": [
  {
   "cell_type": "markdown",
   "metadata": {
    "toc": true
   },
   "source": [
    "<h1>Оглавление<span class=\"tocSkip\"></span></h1>\n",
    "<div class=\"toc\"><ul class=\"toc-item\"><li><span><a href=\"#Общая-информация-о-данных\" data-toc-modified-id=\"Общая-информация-о-данных-1\"><span class=\"toc-item-num\">1&nbsp;&nbsp;</span>Общая информация о данных</a></span><ul class=\"toc-item\"><li><span><a href=\"#Вывод\" data-toc-modified-id=\"Вывод-1.1\"><span class=\"toc-item-num\">1.1&nbsp;&nbsp;</span>Вывод</a></span></li></ul></li><li><span><a href=\"#Исследовательский-анализ-данных\" data-toc-modified-id=\"Исследовательский-анализ-данных-2\"><span class=\"toc-item-num\">2&nbsp;&nbsp;</span>Исследовательский анализ данных</a></span><ul class=\"toc-item\"><li><span><a href=\"#Вывод\" data-toc-modified-id=\"Вывод-2.1\"><span class=\"toc-item-num\">2.1&nbsp;&nbsp;</span>Вывод</a></span></li></ul></li><li><span><a href=\"#Модель-прогнозирования-оттока-клиентов\" data-toc-modified-id=\"Модель-прогнозирования-оттока-клиентов-3\"><span class=\"toc-item-num\">3&nbsp;&nbsp;</span>Модель прогнозирования оттока клиентов</a></span><ul class=\"toc-item\"><li><span><a href=\"#Вывод\" data-toc-modified-id=\"Вывод-3.1\"><span class=\"toc-item-num\">3.1&nbsp;&nbsp;</span>Вывод</a></span></li></ul></li><li><span><a href=\"#Кластеризация-клиентов\" data-toc-modified-id=\"Кластеризация-клиентов-4\"><span class=\"toc-item-num\">4&nbsp;&nbsp;</span>Кластеризация клиентов</a></span><ul class=\"toc-item\"><li><span><a href=\"#Вывод\" data-toc-modified-id=\"Вывод-4.1\"><span class=\"toc-item-num\">4.1&nbsp;&nbsp;</span>Вывод</a></span></li></ul></li><li><span><a href=\"#Выводы-и-базовые-рекомендации-по-работе-с-клиентами\" data-toc-modified-id=\"Выводы-и-базовые-рекомендации-по-работе-с-клиентами-5\"><span class=\"toc-item-num\">5&nbsp;&nbsp;</span>Выводы и базовые рекомендации по работе с клиентами</a></span></li></ul></div>"
   ]
  },
  {
   "cell_type": "markdown",
   "metadata": {},
   "source": [
    "# Анализ сети фитнес-центров «Культурист-датасаентист»"
   ]
  },
  {
   "cell_type": "markdown",
   "metadata": {},
   "source": [
    "Сеть фитнес-центров «Культурист-датасаентист» разрабатывает стратегию взаимодействия с клиентами на основе аналитических данных. Распространённая проблема фитнес-клубов и других сервисов — отток клиентов. Для фитнес-центра можно считать, что клиент попал в отток, если за последний месяц ни разу не посетил спортзал. Чтобы бороться с оттоком, отдел по работе с клиентами «Культуриста-датасаентиста» перевёл в электронный вид множество клиентских анкет. \n",
    "Задача — провести анализ и подготовить план действий по удержанию клиентов."
   ]
  },
  {
   "cell_type": "markdown",
   "metadata": {},
   "source": [
    "Набор данных включает следующие поля:\n",
    "\n",
    "Churn — факт оттока в текущем месяце;\n",
    "\n",
    "Данные клиента за предыдущий до проверки факта оттока месяц:\n",
    "\n",
    "gender — пол;\n",
    "\n",
    "Near_Location — проживание или работа в районе, где находится фитнес-центр;\n",
    "\n",
    "Partner — сотрудник компании-партнёра клуба (сотрудничество с компаниями, чьи сотрудники могут получать скидки на абонемент);\n",
    "\n",
    "Promo_friends — факт первоначальной записи в рамках акции «приведи друга» (использовал промо-код от знакомого при оплате первого абонемента);\n",
    "\n",
    "Phone — наличие контактного телефона;\n",
    "\n",
    "Age — возраст;\n",
    "\n",
    "Lifetime — время с момента первого обращения в фитнес-центр (в месяцах).\n",
    "\n",
    "Информация на основе журнала посещений, покупок и информация о текущем статусе абонемента клиента:\n",
    "\n",
    "Contract_period — длительность текущего действующего абонемента (месяц, 3 месяца, 6 месяцев, год);\n",
    "\n",
    "Month_to_end_contract — срок до окончания текущего действующего абонемента (в месяцах);\n",
    "\n",
    "Group_visits — факт посещения групповых занятий;\n",
    "\n",
    "Avg_class_frequency_total — средняя частота посещений в неделю за все время с начала действия абонемента;\n",
    "\n",
    "Avg_class_frequency_current_month — средняя частота посещений в неделю за предыдущий месяц;\n",
    "\n",
    "Avg_additional_charges_total — суммарная выручка от других услуг фитнес-центра: кафе, спорт-товары, косметический и массажный салон."
   ]
  },
  {
   "cell_type": "markdown",
   "metadata": {},
   "source": [
    "## Общая информация о данных"
   ]
  },
  {
   "cell_type": "markdown",
   "metadata": {},
   "source": [
    "Импортируем необходимые для работы библиотеки. "
   ]
  },
  {
   "cell_type": "code",
   "execution_count": 1,
   "metadata": {},
   "outputs": [],
   "source": [
    "import pandas as pd\n",
    "import seaborn as sns\n",
    "import matplotlib.pyplot as plt\n",
    "from sklearn.linear_model import LogisticRegression\n",
    "from sklearn.model_selection import train_test_split\n",
    "from sklearn.ensemble import RandomForestClassifier\n",
    "from sklearn.metrics import accuracy_score, precision_score, recall_score\n",
    "from sklearn.preprocessing import StandardScaler\n",
    "from scipy.cluster.hierarchy import dendrogram, linkage \n",
    "from sklearn.cluster import KMeans\n",
    "import numpy as np"
   ]
  },
  {
   "cell_type": "markdown",
   "metadata": {},
   "source": [
    "Откроем предоставленные файлы и изучим общую информацию."
   ]
  },
  {
   "cell_type": "code",
   "execution_count": 2,
   "metadata": {},
   "outputs": [
    {
     "name": "stdout",
     "output_type": "stream",
     "text": [
      "<class 'pandas.core.frame.DataFrame'>\n",
      "RangeIndex: 4000 entries, 0 to 3999\n",
      "Data columns (total 14 columns):\n",
      "gender                               4000 non-null int64\n",
      "Near_Location                        4000 non-null int64\n",
      "Partner                              4000 non-null int64\n",
      "Promo_friends                        4000 non-null int64\n",
      "Phone                                4000 non-null int64\n",
      "Contract_period                      4000 non-null int64\n",
      "Group_visits                         4000 non-null int64\n",
      "Age                                  4000 non-null int64\n",
      "Avg_additional_charges_total         4000 non-null float64\n",
      "Month_to_end_contract                4000 non-null float64\n",
      "Lifetime                             4000 non-null int64\n",
      "Avg_class_frequency_total            4000 non-null float64\n",
      "Avg_class_frequency_current_month    4000 non-null float64\n",
      "Churn                                4000 non-null int64\n",
      "dtypes: float64(4), int64(10)\n",
      "memory usage: 437.6 KB\n"
     ]
    },
    {
     "data": {
      "text/html": [
       "<div>\n",
       "<style scoped>\n",
       "    .dataframe tbody tr th:only-of-type {\n",
       "        vertical-align: middle;\n",
       "    }\n",
       "\n",
       "    .dataframe tbody tr th {\n",
       "        vertical-align: top;\n",
       "    }\n",
       "\n",
       "    .dataframe thead th {\n",
       "        text-align: right;\n",
       "    }\n",
       "</style>\n",
       "<table border=\"1\" class=\"dataframe\">\n",
       "  <thead>\n",
       "    <tr style=\"text-align: right;\">\n",
       "      <th></th>\n",
       "      <th>gender</th>\n",
       "      <th>Near_Location</th>\n",
       "      <th>Partner</th>\n",
       "      <th>Promo_friends</th>\n",
       "      <th>Phone</th>\n",
       "      <th>Contract_period</th>\n",
       "      <th>Group_visits</th>\n",
       "      <th>Age</th>\n",
       "      <th>Avg_additional_charges_total</th>\n",
       "      <th>Month_to_end_contract</th>\n",
       "      <th>Lifetime</th>\n",
       "      <th>Avg_class_frequency_total</th>\n",
       "      <th>Avg_class_frequency_current_month</th>\n",
       "      <th>Churn</th>\n",
       "    </tr>\n",
       "  </thead>\n",
       "  <tbody>\n",
       "    <tr>\n",
       "      <td>0</td>\n",
       "      <td>1</td>\n",
       "      <td>1</td>\n",
       "      <td>1</td>\n",
       "      <td>1</td>\n",
       "      <td>0</td>\n",
       "      <td>6</td>\n",
       "      <td>1</td>\n",
       "      <td>29</td>\n",
       "      <td>14.227470</td>\n",
       "      <td>5.0</td>\n",
       "      <td>3</td>\n",
       "      <td>0.020398</td>\n",
       "      <td>0.000000</td>\n",
       "      <td>0</td>\n",
       "    </tr>\n",
       "    <tr>\n",
       "      <td>1</td>\n",
       "      <td>0</td>\n",
       "      <td>1</td>\n",
       "      <td>0</td>\n",
       "      <td>0</td>\n",
       "      <td>1</td>\n",
       "      <td>12</td>\n",
       "      <td>1</td>\n",
       "      <td>31</td>\n",
       "      <td>113.202938</td>\n",
       "      <td>12.0</td>\n",
       "      <td>7</td>\n",
       "      <td>1.922936</td>\n",
       "      <td>1.910244</td>\n",
       "      <td>0</td>\n",
       "    </tr>\n",
       "    <tr>\n",
       "      <td>2</td>\n",
       "      <td>0</td>\n",
       "      <td>1</td>\n",
       "      <td>1</td>\n",
       "      <td>0</td>\n",
       "      <td>1</td>\n",
       "      <td>1</td>\n",
       "      <td>0</td>\n",
       "      <td>28</td>\n",
       "      <td>129.448479</td>\n",
       "      <td>1.0</td>\n",
       "      <td>2</td>\n",
       "      <td>1.859098</td>\n",
       "      <td>1.736502</td>\n",
       "      <td>0</td>\n",
       "    </tr>\n",
       "    <tr>\n",
       "      <td>3</td>\n",
       "      <td>0</td>\n",
       "      <td>1</td>\n",
       "      <td>1</td>\n",
       "      <td>1</td>\n",
       "      <td>1</td>\n",
       "      <td>12</td>\n",
       "      <td>1</td>\n",
       "      <td>33</td>\n",
       "      <td>62.669863</td>\n",
       "      <td>12.0</td>\n",
       "      <td>2</td>\n",
       "      <td>3.205633</td>\n",
       "      <td>3.357215</td>\n",
       "      <td>0</td>\n",
       "    </tr>\n",
       "    <tr>\n",
       "      <td>4</td>\n",
       "      <td>1</td>\n",
       "      <td>1</td>\n",
       "      <td>1</td>\n",
       "      <td>1</td>\n",
       "      <td>1</td>\n",
       "      <td>1</td>\n",
       "      <td>0</td>\n",
       "      <td>26</td>\n",
       "      <td>198.362265</td>\n",
       "      <td>1.0</td>\n",
       "      <td>3</td>\n",
       "      <td>1.113884</td>\n",
       "      <td>1.120078</td>\n",
       "      <td>0</td>\n",
       "    </tr>\n",
       "  </tbody>\n",
       "</table>\n",
       "</div>"
      ],
      "text/plain": [
       "   gender  Near_Location  Partner  Promo_friends  Phone  Contract_period  \\\n",
       "0       1              1        1              1      0                6   \n",
       "1       0              1        0              0      1               12   \n",
       "2       0              1        1              0      1                1   \n",
       "3       0              1        1              1      1               12   \n",
       "4       1              1        1              1      1                1   \n",
       "\n",
       "   Group_visits  Age  Avg_additional_charges_total  Month_to_end_contract  \\\n",
       "0             1   29                     14.227470                    5.0   \n",
       "1             1   31                    113.202938                   12.0   \n",
       "2             0   28                    129.448479                    1.0   \n",
       "3             1   33                     62.669863                   12.0   \n",
       "4             0   26                    198.362265                    1.0   \n",
       "\n",
       "   Lifetime  Avg_class_frequency_total  Avg_class_frequency_current_month  \\\n",
       "0         3                   0.020398                           0.000000   \n",
       "1         7                   1.922936                           1.910244   \n",
       "2         2                   1.859098                           1.736502   \n",
       "3         2                   3.205633                           3.357215   \n",
       "4         3                   1.113884                           1.120078   \n",
       "\n",
       "   Churn  \n",
       "0      0  \n",
       "1      0  \n",
       "2      0  \n",
       "3      0  \n",
       "4      0  "
      ]
     },
     "execution_count": 2,
     "metadata": {},
     "output_type": "execute_result"
    }
   ],
   "source": [
    "data = pd.read_csv('/datasets/gym_churn.csv')\n",
    "data.info()\n",
    "data.head(5)"
   ]
  },
  {
   "cell_type": "markdown",
   "metadata": {},
   "source": [
    "Данные содержат 4000 строк и 14 столбцов. Пропущенные значений нет. Формат данных верный."
   ]
  },
  {
   "cell_type": "markdown",
   "metadata": {},
   "source": [
    "Завершая предобработку данных, проведем проверку на дубликаты."
   ]
  },
  {
   "cell_type": "code",
   "execution_count": 3,
   "metadata": {},
   "outputs": [
    {
     "data": {
      "text/html": [
       "<div>\n",
       "<style scoped>\n",
       "    .dataframe tbody tr th:only-of-type {\n",
       "        vertical-align: middle;\n",
       "    }\n",
       "\n",
       "    .dataframe tbody tr th {\n",
       "        vertical-align: top;\n",
       "    }\n",
       "\n",
       "    .dataframe thead th {\n",
       "        text-align: right;\n",
       "    }\n",
       "</style>\n",
       "<table border=\"1\" class=\"dataframe\">\n",
       "  <thead>\n",
       "    <tr style=\"text-align: right;\">\n",
       "      <th></th>\n",
       "      <th>gender</th>\n",
       "      <th>Near_Location</th>\n",
       "      <th>Partner</th>\n",
       "      <th>Promo_friends</th>\n",
       "      <th>Phone</th>\n",
       "      <th>Contract_period</th>\n",
       "      <th>Group_visits</th>\n",
       "      <th>Age</th>\n",
       "      <th>Avg_additional_charges_total</th>\n",
       "      <th>Month_to_end_contract</th>\n",
       "      <th>Lifetime</th>\n",
       "      <th>Avg_class_frequency_total</th>\n",
       "      <th>Avg_class_frequency_current_month</th>\n",
       "      <th>Churn</th>\n",
       "    </tr>\n",
       "  </thead>\n",
       "  <tbody>\n",
       "  </tbody>\n",
       "</table>\n",
       "</div>"
      ],
      "text/plain": [
       "Empty DataFrame\n",
       "Columns: [gender, Near_Location, Partner, Promo_friends, Phone, Contract_period, Group_visits, Age, Avg_additional_charges_total, Month_to_end_contract, Lifetime, Avg_class_frequency_total, Avg_class_frequency_current_month, Churn]\n",
       "Index: []"
      ]
     },
     "execution_count": 3,
     "metadata": {},
     "output_type": "execute_result"
    }
   ],
   "source": [
    "data[data.duplicated()]"
   ]
  },
  {
   "cell_type": "markdown",
   "metadata": {},
   "source": [
    "Дубликатов не обнаружено"
   ]
  },
  {
   "cell_type": "markdown",
   "metadata": {},
   "source": [
    "### Вывод"
   ]
  },
  {
   "cell_type": "markdown",
   "metadata": {},
   "source": [
    " Датасет готов к дальнейшему анализу."
   ]
  },
  {
   "cell_type": "markdown",
   "metadata": {},
   "source": [
    "## Исследовательский анализ данных"
   ]
  },
  {
   "cell_type": "markdown",
   "metadata": {},
   "source": [
    "Изучим средние значения и стандартные отклонения."
   ]
  },
  {
   "cell_type": "code",
   "execution_count": 4,
   "metadata": {},
   "outputs": [
    {
     "data": {
      "text/html": [
       "<div>\n",
       "<style scoped>\n",
       "    .dataframe tbody tr th:only-of-type {\n",
       "        vertical-align: middle;\n",
       "    }\n",
       "\n",
       "    .dataframe tbody tr th {\n",
       "        vertical-align: top;\n",
       "    }\n",
       "\n",
       "    .dataframe thead th {\n",
       "        text-align: right;\n",
       "    }\n",
       "</style>\n",
       "<table border=\"1\" class=\"dataframe\">\n",
       "  <thead>\n",
       "    <tr style=\"text-align: right;\">\n",
       "      <th></th>\n",
       "      <th>gender</th>\n",
       "      <th>Near_Location</th>\n",
       "      <th>Partner</th>\n",
       "      <th>Promo_friends</th>\n",
       "      <th>Phone</th>\n",
       "      <th>Contract_period</th>\n",
       "      <th>Group_visits</th>\n",
       "      <th>Age</th>\n",
       "      <th>Avg_additional_charges_total</th>\n",
       "      <th>Month_to_end_contract</th>\n",
       "      <th>Lifetime</th>\n",
       "      <th>Avg_class_frequency_total</th>\n",
       "      <th>Avg_class_frequency_current_month</th>\n",
       "      <th>Churn</th>\n",
       "    </tr>\n",
       "  </thead>\n",
       "  <tbody>\n",
       "    <tr>\n",
       "      <td>count</td>\n",
       "      <td>4000.000000</td>\n",
       "      <td>4000.000000</td>\n",
       "      <td>4000.000000</td>\n",
       "      <td>4000.000000</td>\n",
       "      <td>4000.000000</td>\n",
       "      <td>4000.000000</td>\n",
       "      <td>4000.000000</td>\n",
       "      <td>4000.000000</td>\n",
       "      <td>4000.000000</td>\n",
       "      <td>4000.000000</td>\n",
       "      <td>4000.000000</td>\n",
       "      <td>4000.000000</td>\n",
       "      <td>4000.000000</td>\n",
       "      <td>4000.000000</td>\n",
       "    </tr>\n",
       "    <tr>\n",
       "      <td>mean</td>\n",
       "      <td>0.510250</td>\n",
       "      <td>0.845250</td>\n",
       "      <td>0.486750</td>\n",
       "      <td>0.308500</td>\n",
       "      <td>0.903500</td>\n",
       "      <td>4.681250</td>\n",
       "      <td>0.412250</td>\n",
       "      <td>29.184250</td>\n",
       "      <td>146.943728</td>\n",
       "      <td>4.322750</td>\n",
       "      <td>3.724750</td>\n",
       "      <td>1.879020</td>\n",
       "      <td>1.767052</td>\n",
       "      <td>0.265250</td>\n",
       "    </tr>\n",
       "    <tr>\n",
       "      <td>std</td>\n",
       "      <td>0.499957</td>\n",
       "      <td>0.361711</td>\n",
       "      <td>0.499887</td>\n",
       "      <td>0.461932</td>\n",
       "      <td>0.295313</td>\n",
       "      <td>4.549706</td>\n",
       "      <td>0.492301</td>\n",
       "      <td>3.258367</td>\n",
       "      <td>96.355602</td>\n",
       "      <td>4.191297</td>\n",
       "      <td>3.749267</td>\n",
       "      <td>0.972245</td>\n",
       "      <td>1.052906</td>\n",
       "      <td>0.441521</td>\n",
       "    </tr>\n",
       "    <tr>\n",
       "      <td>min</td>\n",
       "      <td>0.000000</td>\n",
       "      <td>0.000000</td>\n",
       "      <td>0.000000</td>\n",
       "      <td>0.000000</td>\n",
       "      <td>0.000000</td>\n",
       "      <td>1.000000</td>\n",
       "      <td>0.000000</td>\n",
       "      <td>18.000000</td>\n",
       "      <td>0.148205</td>\n",
       "      <td>1.000000</td>\n",
       "      <td>0.000000</td>\n",
       "      <td>0.000000</td>\n",
       "      <td>0.000000</td>\n",
       "      <td>0.000000</td>\n",
       "    </tr>\n",
       "    <tr>\n",
       "      <td>25%</td>\n",
       "      <td>0.000000</td>\n",
       "      <td>1.000000</td>\n",
       "      <td>0.000000</td>\n",
       "      <td>0.000000</td>\n",
       "      <td>1.000000</td>\n",
       "      <td>1.000000</td>\n",
       "      <td>0.000000</td>\n",
       "      <td>27.000000</td>\n",
       "      <td>68.868830</td>\n",
       "      <td>1.000000</td>\n",
       "      <td>1.000000</td>\n",
       "      <td>1.180875</td>\n",
       "      <td>0.963003</td>\n",
       "      <td>0.000000</td>\n",
       "    </tr>\n",
       "    <tr>\n",
       "      <td>50%</td>\n",
       "      <td>1.000000</td>\n",
       "      <td>1.000000</td>\n",
       "      <td>0.000000</td>\n",
       "      <td>0.000000</td>\n",
       "      <td>1.000000</td>\n",
       "      <td>1.000000</td>\n",
       "      <td>0.000000</td>\n",
       "      <td>29.000000</td>\n",
       "      <td>136.220159</td>\n",
       "      <td>1.000000</td>\n",
       "      <td>3.000000</td>\n",
       "      <td>1.832768</td>\n",
       "      <td>1.719574</td>\n",
       "      <td>0.000000</td>\n",
       "    </tr>\n",
       "    <tr>\n",
       "      <td>75%</td>\n",
       "      <td>1.000000</td>\n",
       "      <td>1.000000</td>\n",
       "      <td>1.000000</td>\n",
       "      <td>1.000000</td>\n",
       "      <td>1.000000</td>\n",
       "      <td>6.000000</td>\n",
       "      <td>1.000000</td>\n",
       "      <td>31.000000</td>\n",
       "      <td>210.949625</td>\n",
       "      <td>6.000000</td>\n",
       "      <td>5.000000</td>\n",
       "      <td>2.536078</td>\n",
       "      <td>2.510336</td>\n",
       "      <td>1.000000</td>\n",
       "    </tr>\n",
       "    <tr>\n",
       "      <td>max</td>\n",
       "      <td>1.000000</td>\n",
       "      <td>1.000000</td>\n",
       "      <td>1.000000</td>\n",
       "      <td>1.000000</td>\n",
       "      <td>1.000000</td>\n",
       "      <td>12.000000</td>\n",
       "      <td>1.000000</td>\n",
       "      <td>41.000000</td>\n",
       "      <td>552.590740</td>\n",
       "      <td>12.000000</td>\n",
       "      <td>31.000000</td>\n",
       "      <td>6.023668</td>\n",
       "      <td>6.146783</td>\n",
       "      <td>1.000000</td>\n",
       "    </tr>\n",
       "  </tbody>\n",
       "</table>\n",
       "</div>"
      ],
      "text/plain": [
       "            gender  Near_Location      Partner  Promo_friends        Phone  \\\n",
       "count  4000.000000    4000.000000  4000.000000    4000.000000  4000.000000   \n",
       "mean      0.510250       0.845250     0.486750       0.308500     0.903500   \n",
       "std       0.499957       0.361711     0.499887       0.461932     0.295313   \n",
       "min       0.000000       0.000000     0.000000       0.000000     0.000000   \n",
       "25%       0.000000       1.000000     0.000000       0.000000     1.000000   \n",
       "50%       1.000000       1.000000     0.000000       0.000000     1.000000   \n",
       "75%       1.000000       1.000000     1.000000       1.000000     1.000000   \n",
       "max       1.000000       1.000000     1.000000       1.000000     1.000000   \n",
       "\n",
       "       Contract_period  Group_visits          Age  \\\n",
       "count      4000.000000   4000.000000  4000.000000   \n",
       "mean          4.681250      0.412250    29.184250   \n",
       "std           4.549706      0.492301     3.258367   \n",
       "min           1.000000      0.000000    18.000000   \n",
       "25%           1.000000      0.000000    27.000000   \n",
       "50%           1.000000      0.000000    29.000000   \n",
       "75%           6.000000      1.000000    31.000000   \n",
       "max          12.000000      1.000000    41.000000   \n",
       "\n",
       "       Avg_additional_charges_total  Month_to_end_contract     Lifetime  \\\n",
       "count                   4000.000000            4000.000000  4000.000000   \n",
       "mean                     146.943728               4.322750     3.724750   \n",
       "std                       96.355602               4.191297     3.749267   \n",
       "min                        0.148205               1.000000     0.000000   \n",
       "25%                       68.868830               1.000000     1.000000   \n",
       "50%                      136.220159               1.000000     3.000000   \n",
       "75%                      210.949625               6.000000     5.000000   \n",
       "max                      552.590740              12.000000    31.000000   \n",
       "\n",
       "       Avg_class_frequency_total  Avg_class_frequency_current_month  \\\n",
       "count                4000.000000                        4000.000000   \n",
       "mean                    1.879020                           1.767052   \n",
       "std                     0.972245                           1.052906   \n",
       "min                     0.000000                           0.000000   \n",
       "25%                     1.180875                           0.963003   \n",
       "50%                     1.832768                           1.719574   \n",
       "75%                     2.536078                           2.510336   \n",
       "max                     6.023668                           6.146783   \n",
       "\n",
       "             Churn  \n",
       "count  4000.000000  \n",
       "mean      0.265250  \n",
       "std       0.441521  \n",
       "min       0.000000  \n",
       "25%       0.000000  \n",
       "50%       0.000000  \n",
       "75%       1.000000  \n",
       "max       1.000000  "
      ]
     },
     "execution_count": 4,
     "metadata": {},
     "output_type": "execute_result"
    }
   ],
   "source": [
    "data.describe()"
   ]
  },
  {
   "cell_type": "markdown",
   "metadata": {},
   "source": [
    "gender минимальное значение 0, максимальное 1, все верно. Среднее равно 0,51, то есть значений равных 1 немного больше. \n",
    "\n",
    "Near_Location минимальное значение 0, максимальное 1, верно. Среднее равно 0,85, то есть значений равных 1 больше. \n",
    "\n",
    "Partner минимальное значение 0, максимальное 1, верно. Среднее равно 0,49, то есть значений равных 0 немного больше.\n",
    "\n",
    "Promo_friends минимальное значение 0, максимальное 1, верно. Среднее равно 0,31, то есть значений равных 0 больше.\n",
    "\n",
    "Phone минимальное значение 0, максимальное 1, верно. Среднее равно 0,9, то есть значений равных 1 больше. \n",
    "\n",
    "Contract_period минимальное значение 1, максимальное 12, верно. Среднее значение равно 4,68 месяцев. \n",
    "\n",
    "Group_visits минимальное значение 0, максимальное 1, верно. Среднее значение равно 0,41, то есть значений равных 0 больше\n",
    "\n",
    "Age минимальное значение 18, максимальное 41. Средний возраст клиента 29,18 +- 3,26 лет.\n",
    "\n",
    "Avg_additional_charges_total минимальное значение 0,15, максимальное 552,59. Среднее равно 146,94, стандартное отклонение 96,36. То есть клиенты в среднем потратили на дополнительные услуги 146,94 +/-96,36\n",
    "\n",
    "Month_to_end_contract  минимальное значение 1, максимальное 12. Среднее равно 4,32, стандартное отклонение 4,19. То есть на данный момент у большинства клиентов срок до окончания текущего действующего абонемента 4,32 месяца +/-4,19 месяца\n",
    "\n",
    "Lifetime минимальное значение 0, максимальное 31. Среднее равно 3,72, стандартное отклонение 3,75. То есть на данный момент большинство клиентов первый раз обратились в фитнес-центр 1,88 месяцев назад +/-0,97 месяца\n",
    "\n",
    "Avg_class_frequency_total минимальное значение 0, максимальное 6,02. Среднее равно 1,88, стандартное отклонение 0,97. То есть большинство посещают тренажерный зал 1,88 раз в неделю +/-0,97\n",
    "\n",
    "Avg_class_frequency_current_month минимальное значение 0, максимальное 6,15. Среднее равно 1,77, стандартное отклонение 1,05 То есть за предыдущий месяц клиенты посещали тренажерный зал 1,77 раз в неделю +/-1,05\n",
    "\n",
    "churn минимальное значение 0, максимальное 1, верно. Среднее равно 0,27, то есть доля оттока равно 27%. "
   ]
  },
  {
   "cell_type": "markdown",
   "metadata": {},
   "source": [
    "Contract_period — длительность текущего действующего абонемента (месяц, 3 месяца, 6 месяцев, год);"
   ]
  },
  {
   "cell_type": "markdown",
   "metadata": {},
   "source": [
    "Посмотрим на средние значения признаков в двух группах — тех, кто ушел в отток и тех, кто остался"
   ]
  },
  {
   "cell_type": "code",
   "execution_count": 5,
   "metadata": {},
   "outputs": [
    {
     "data": {
      "text/html": [
       "<div>\n",
       "<style scoped>\n",
       "    .dataframe tbody tr th:only-of-type {\n",
       "        vertical-align: middle;\n",
       "    }\n",
       "\n",
       "    .dataframe tbody tr th {\n",
       "        vertical-align: top;\n",
       "    }\n",
       "\n",
       "    .dataframe thead th {\n",
       "        text-align: right;\n",
       "    }\n",
       "</style>\n",
       "<table border=\"1\" class=\"dataframe\">\n",
       "  <thead>\n",
       "    <tr style=\"text-align: right;\">\n",
       "      <th></th>\n",
       "      <th>gender</th>\n",
       "      <th>Near_Location</th>\n",
       "      <th>Partner</th>\n",
       "      <th>Promo_friends</th>\n",
       "      <th>Phone</th>\n",
       "      <th>Contract_period</th>\n",
       "      <th>Group_visits</th>\n",
       "      <th>Age</th>\n",
       "      <th>Avg_additional_charges_total</th>\n",
       "      <th>Month_to_end_contract</th>\n",
       "      <th>Lifetime</th>\n",
       "      <th>Avg_class_frequency_total</th>\n",
       "      <th>Avg_class_frequency_current_month</th>\n",
       "    </tr>\n",
       "    <tr>\n",
       "      <th>Churn</th>\n",
       "      <th></th>\n",
       "      <th></th>\n",
       "      <th></th>\n",
       "      <th></th>\n",
       "      <th></th>\n",
       "      <th></th>\n",
       "      <th></th>\n",
       "      <th></th>\n",
       "      <th></th>\n",
       "      <th></th>\n",
       "      <th></th>\n",
       "      <th></th>\n",
       "      <th></th>\n",
       "    </tr>\n",
       "  </thead>\n",
       "  <tbody>\n",
       "    <tr>\n",
       "      <td>0</td>\n",
       "      <td>0.510037</td>\n",
       "      <td>0.873086</td>\n",
       "      <td>0.534195</td>\n",
       "      <td>0.353522</td>\n",
       "      <td>0.903709</td>\n",
       "      <td>5.747193</td>\n",
       "      <td>0.464103</td>\n",
       "      <td>29.976523</td>\n",
       "      <td>158.445715</td>\n",
       "      <td>5.283089</td>\n",
       "      <td>4.711807</td>\n",
       "      <td>2.024876</td>\n",
       "      <td>2.027882</td>\n",
       "    </tr>\n",
       "    <tr>\n",
       "      <td>1</td>\n",
       "      <td>0.510839</td>\n",
       "      <td>0.768143</td>\n",
       "      <td>0.355325</td>\n",
       "      <td>0.183789</td>\n",
       "      <td>0.902922</td>\n",
       "      <td>1.728558</td>\n",
       "      <td>0.268615</td>\n",
       "      <td>26.989632</td>\n",
       "      <td>115.082899</td>\n",
       "      <td>1.662582</td>\n",
       "      <td>0.990575</td>\n",
       "      <td>1.474995</td>\n",
       "      <td>1.044546</td>\n",
       "    </tr>\n",
       "  </tbody>\n",
       "</table>\n",
       "</div>"
      ],
      "text/plain": [
       "         gender  Near_Location   Partner  Promo_friends     Phone  \\\n",
       "Churn                                                               \n",
       "0      0.510037       0.873086  0.534195       0.353522  0.903709   \n",
       "1      0.510839       0.768143  0.355325       0.183789  0.902922   \n",
       "\n",
       "       Contract_period  Group_visits        Age  Avg_additional_charges_total  \\\n",
       "Churn                                                                           \n",
       "0             5.747193      0.464103  29.976523                    158.445715   \n",
       "1             1.728558      0.268615  26.989632                    115.082899   \n",
       "\n",
       "       Month_to_end_contract  Lifetime  Avg_class_frequency_total  \\\n",
       "Churn                                                               \n",
       "0                   5.283089  4.711807                   2.024876   \n",
       "1                   1.662582  0.990575                   1.474995   \n",
       "\n",
       "       Avg_class_frequency_current_month  \n",
       "Churn                                     \n",
       "0                               2.027882  \n",
       "1                               1.044546  "
      ]
     },
     "execution_count": 5,
     "metadata": {},
     "output_type": "execute_result"
    }
   ],
   "source": [
    "data.groupby('Churn').mean()"
   ]
  },
  {
   "cell_type": "markdown",
   "metadata": {},
   "source": [
    "gender Разделение по половому признаку почти равное и совпадает со средним значеним по всем клиенитам. Скорее всего данный признак не оказывает влияния на решения клиентов уйти или остаться\n",
    "\n",
    "Near_Location Среди клиентов кто еще занимается, доля тех кто работает/живет рядом с фитнес-центром выше, чем среди тех кто ушел в отток. Видимо данный признак оказывает влияние на клиентов.\n",
    "\n",
    "Partner сотрудников компаний-партнёра клуба больше в группе занимающихся. Возможно предположить зависимость данного признака на решение клиентов посещать фитнес-центр или нет.\n",
    "\n",
    "Promo_friends В обеих группах небольшой процент клиентов используют акцию «приведи друга». В группе занимающихся он выше, видимо данный признак оказывает влияние.\n",
    "\n",
    "Phone Большинство клиентов отставляют телефон. Среднее значение по группам одинаковое. Скорее всего признак не оказывает влияние на решение уйти или остаться.\n",
    "\n",
    "Contract_period Средняя длительность текущего абонемента различается в группах. Для тех кто остался показатель равен 5,74, а для тех кто ущел 1,73. Скорее всего признак оказывает влияние\n",
    "\n",
    "Group_visits — факт посещения групповых занятий скорее всего тоже оказывает влияние. В группе ущедхих клтиентов среднее значение ниже чем среди тех, кто остался.\n",
    "\n",
    "Age — средний возраст клиентов в группе ушедщих ниже, чем среди тех кто остался. Возможно предположить зависимость данного признака на решение клиентов посещать фитнес-центр или нет. \n",
    "\n",
    "Avg_additional_charges_total лояльные клиенты больше тратят на дополнительные услуги. Видимо данный признак оказывает влияние.\n",
    "\n",
    "Month_to_end_contract Среднее значение срок до окончания текущего действующего абонемента у клиентов которые посещают фитнес-центр в 3 раза выше, чем у тех кто ущел в отток. Данного признак оказывает влияние на решение клиентов посещать фитнес-центр или нет. \n",
    "\n",
    "Lifetime В группе лояльных клиентов среднее значение данного признака выше, предположим что он оказывает влияние на решение клиентов.\n",
    "\n",
    "Avg_class_frequency_total и Avg_class_frequency_current_month в среднем клиенты, не ущедщие в отток, за неделю посещают фитнес-центр чаще чем те, кто ущел. Видимо данные признаки оказывают влияние."
   ]
  },
  {
   "cell_type": "markdown",
   "metadata": {},
   "source": [
    "Построим столбчатые гистограммы и распределения признаков для тех, кто ушёл (отток) и тех, кто остался (не попали в отток);"
   ]
  },
  {
   "cell_type": "code",
   "execution_count": 6,
   "metadata": {
    "scrolled": true
   },
   "outputs": [
    {
     "data": {
      "image/png": "[encoded data removed]",
      "text/plain": [
       "<Figure size 432x288 with 1 Axes>"
      ]
     },
     "metadata": {
      "needs_background": "light"
     },
     "output_type": "display_data"
    },
    {
     "data": {
      "image/png": "[encoded data removed]",
      "text/plain": [
       "<Figure size 432x288 with 1 Axes>"
      ]
     },
     "metadata": {
      "needs_background": "light"
     },
     "output_type": "display_data"
    },
    {
     "data": {
      "image/png": "[encoded data removed]",
      "text/plain": [
       "<Figure size 432x288 with 1 Axes>"
      ]
     },
     "metadata": {
      "needs_background": "light"
     },
     "output_type": "display_data"
    },
    {
     "data": {
      "image/png": "[encoded data removed]",
      "text/plain": [
       "<Figure size 432x288 with 1 Axes>"
      ]
     },
     "metadata": {
      "needs_background": "light"
     },
     "output_type": "display_data"
    },
    {
     "data": {
      "image/png": "[encoded data removed]",
      "text/plain": [
       "<Figure size 432x288 with 1 Axes>"
      ]
     },
     "metadata": {
      "needs_background": "light"
     },
     "output_type": "display_data"
    },
    {
     "data": {
      "image/png": "[encoded data removed]",
      "text/plain": [
       "<Figure size 432x288 with 1 Axes>"
      ]
     },
     "metadata": {
      "needs_background": "light"
     },
     "output_type": "display_data"
    },
    {
     "data": {
      "image/png": "[encoded data removed]",
      "text/plain": [
       "<Figure size 432x288 with 1 Axes>"
      ]
     },
     "metadata": {
      "needs_background": "light"
     },
     "output_type": "display_data"
    },
    {
     "data": {
      "image/png": "[encoded data removed]",
      "text/plain": [
       "<Figure size 432x288 with 1 Axes>"
      ]
     },
     "metadata": {
      "needs_background": "light"
     },
     "output_type": "display_data"
    },
    {
     "data": {
      "image/png": "[encoded data removed]",
      "text/plain": [
       "<Figure size 432x288 with 1 Axes>"
      ]
     },
     "metadata": {
      "needs_background": "light"
     },
     "output_type": "display_data"
    },
    {
     "data": {
      "image/png": "[encoded data removed]",
      "text/plain": [
       "<Figure size 432x288 with 1 Axes>"
      ]
     },
     "metadata": {
      "needs_background": "light"
     },
     "output_type": "display_data"
    },
    {
     "data": {
      "image/png": "[encoded data removed]",
      "text/plain": [
       "<Figure size 432x288 with 1 Axes>"
      ]
     },
     "metadata": {
      "needs_background": "light"
     },
     "output_type": "display_data"
    },
    {
     "data": {
      "image/png": "[encoded data removed]",
      "text/plain": [
       "<Figure size 432x288 with 1 Axes>"
      ]
     },
     "metadata": {
      "needs_background": "light"
     },
     "output_type": "display_data"
    },
    {
     "data": {
      "image/png": "[encoded data removed]",
      "text/plain": [
       "<Figure size 432x288 with 1 Axes>"
      ]
     },
     "metadata": {
      "needs_background": "light"
     },
     "output_type": "display_data"
    }
   ],
   "source": [
    "for i in data.drop('Churn', axis = 1).columns:\n",
    "    data.groupby('Churn')[i].plot(kind = 'hist', bins = 23, alpha = 0.5)\n",
    "    plt.title(str(i))\n",
    "    plt.legend()\n",
    "    plt.show()"
   ]
  },
  {
   "cell_type": "markdown",
   "metadata": {},
   "source": [
    "gender График подтверждает, что скорее всего данный признак не оказывает влияния на решения клиентов уйти или остаться\n",
    "\n",
    "Near_Location Большая часть клиентов кто не живет и не работает рядом с фитнес-центром уходят в отток.\n",
    "\n",
    "Partner сотрудники компаний-партнёра клуба меньше уходят в отток.\n",
    "\n",
    "Promo_friends По графику видно, что клиенты, использующие акцию «приведи друга», меньше уходят в отток. \n",
    "\n",
    "Phone Судя по графику признак не оказывает влияние на решение уйти или остаться.\n",
    "\n",
    "Contract_period Больше всего клиентов уходят в отток, чья длительность абонемента составляет 1 месяц. Почему-то нет клиентов со значением признака 3 месяца, хотя в описании данных он был заявлен.\n",
    "\n",
    "Group_visits факт посещения групповых занятий скорее всего тоже оказывает влияние. В группе ущедших клиентов среднее значение ниже чем среди тех, кто остался.\n",
    "\n",
    "Age — в обеих группах распределение признака нормальное. Среднее значение в группе оттока смещено влево, относительно среднего лояльных клиентов. Более молодые клиенты с 18 до 25 лет чаще уходят в отток, чем остаются. \n",
    "\n",
    "Avg_additional_charges_total В обеих группах распределение признака стремится к нормальному. При этом лояльные клиенты больше тратят на дополнительные услуги. \n",
    "\n",
    "Month_to_end_contract Клиенты редко уходят в отток, если действие их текущего абонемента до окончания больше 1 месяца. \n",
    "\n",
    "Lifetime В отток уходят восновном клиенты с небольшим значением данного признака 0-2 месяца.\n",
    "\n",
    "Avg_class_frequency_total В обеих группах распределение признака стремится к нормальному. При этом лояльные клиенты чаще посещают фитнес-центр. Можно предположить что тесли клиент посещат фитнес-центр в среднем 4 раза в неделю, то он не уйдет в отток.  \n",
    "Avg_class_frequency_current_month В обеих группах распределение признака стремится к нормальному. При этом видно, что клиенты мало посещавщие фитнес центр в текущем месяце (менее 1 раза в неделю) скорее всего уйдут в отток. "
   ]
  },
  {
   "cell_type": "markdown",
   "metadata": {},
   "source": [
    "Построим матрицу корреляций и отобразим ее на тепловой карте"
   ]
  },
  {
   "cell_type": "code",
   "execution_count": 7,
   "metadata": {},
   "outputs": [
    {
     "data": {
      "image/png": "[encoded data removed]",
      "text/plain": [
       "<Figure size 1440x720 with 2 Axes>"
      ]
     },
     "metadata": {
      "needs_background": "light"
     },
     "output_type": "display_data"
    }
   ],
   "source": [
    "mcor = data.corr() \n",
    "plt.figure(figsize=(20, 10))\n",
    "sns.heatmap(mcor, annot = True)\n",
    "plt.title('Матрица корреляций')\n",
    "plt.show()"
   ]
  },
  {
   "cell_type": "markdown",
   "metadata": {},
   "source": [
    "Высокой линейной зависимость факта оттока от признаков не выявлено, при этом имеются мультиколлинеарные признаки - contract_period и month_to_end_contract, а так же Avg_class_frequency_total и Avg_class_frequency_current_month.  "
   ]
  },
  {
   "cell_type": "markdown",
   "metadata": {},
   "source": [
    "### Вывод "
   ]
  },
  {
   "cell_type": "markdown",
   "metadata": {},
   "source": [
    "Распределение по полу не отличается, ближе живущие или работающие клиенты реже попадают в отток.\n",
    "Сотрудники компаний-партнеров реже перестают посещать фитнесс-клуб, чем остальные клиенты. \n",
    "Клиенты, пришедшие по акции в два раза реже уходят в отток. \n",
    "Наличие мобильного номера клиента не влияет на группу клиента.\n",
    "Средняя длительность договора больше у лояльных пользователей. \n",
    "На групповые занятия чаще ходят более лояльные пользователи. \n",
    "У групп есть небольшая разница в среднем возрасте клиентов\n",
    "Есть небольшое различие в выручке от других услуг фитнес-центра\n",
    "У клиентов в оттоке меньше среднее количество посещений в неделю\n",
    "Количество посещений в предыдущий месяц в два раза ниже у клиентов в оттоке"
   ]
  },
  {
   "cell_type": "markdown",
   "metadata": {},
   "source": [
    "## Модель прогнозирования оттока клиентов"
   ]
  },
  {
   "cell_type": "markdown",
   "metadata": {},
   "source": [
    "Построим модель бинарной классификации клиентов, где целевой признак — факт оттока клиента в следующем месяце. Для этого разобъем данные на обучающую и валидационную выборки"
   ]
  },
  {
   "cell_type": "code",
   "execution_count": 8,
   "metadata": {},
   "outputs": [],
   "source": [
    "y = data['Churn']\n",
    "X = data.drop(['Churn'], axis = 1)\n",
    "X_train, X_test, y_train, y_test = train_test_split(X,y,test_size = 0.2, random_state = 0)"
   ]
  },
  {
   "cell_type": "markdown",
   "metadata": {},
   "source": [
    "Обучим модель на train-выборке двумя способами: логистической регрессией и случайным лесом. Перед обучением стандартизуем данные. "
   ]
  },
  {
   "cell_type": "code",
   "execution_count": 9,
   "metadata": {},
   "outputs": [],
   "source": [
    "scaler = StandardScaler()\n",
    "X_train_st = scaler.fit_transform(X_train)\n",
    "X_test_st = scaler.transform(X_test)"
   ]
  },
  {
   "cell_type": "code",
   "execution_count": 10,
   "metadata": {},
   "outputs": [],
   "source": [
    "model = LogisticRegression(random_state = 0,solver='liblinear')\n",
    "model.fit(X_train_st, y_train)\n",
    "pred = model.predict(X_test_st)"
   ]
  },
  {
   "cell_type": "code",
   "execution_count": 11,
   "metadata": {},
   "outputs": [
    {
     "data": {
      "text/html": [
       "<div>\n",
       "<style scoped>\n",
       "    .dataframe tbody tr th:only-of-type {\n",
       "        vertical-align: middle;\n",
       "    }\n",
       "\n",
       "    .dataframe tbody tr th {\n",
       "        vertical-align: top;\n",
       "    }\n",
       "\n",
       "    .dataframe thead th {\n",
       "        text-align: right;\n",
       "    }\n",
       "</style>\n",
       "<table border=\"1\" class=\"dataframe\">\n",
       "  <thead>\n",
       "    <tr style=\"text-align: right;\">\n",
       "      <th></th>\n",
       "      <th>gender</th>\n",
       "      <th>Near_Location</th>\n",
       "      <th>Partner</th>\n",
       "      <th>Promo_friends</th>\n",
       "      <th>Phone</th>\n",
       "      <th>Contract_period</th>\n",
       "      <th>Group_visits</th>\n",
       "      <th>Age</th>\n",
       "      <th>Avg_additional_charges_total</th>\n",
       "      <th>Lifetime</th>\n",
       "      <th>Avg_class_frequency_current_month</th>\n",
       "      <th>Churn</th>\n",
       "    </tr>\n",
       "  </thead>\n",
       "  <tbody>\n",
       "    <tr>\n",
       "      <td>0</td>\n",
       "      <td>1</td>\n",
       "      <td>1</td>\n",
       "      <td>1</td>\n",
       "      <td>1</td>\n",
       "      <td>0</td>\n",
       "      <td>6</td>\n",
       "      <td>1</td>\n",
       "      <td>29</td>\n",
       "      <td>14.227470</td>\n",
       "      <td>3</td>\n",
       "      <td>0.000000</td>\n",
       "      <td>0</td>\n",
       "    </tr>\n",
       "    <tr>\n",
       "      <td>1</td>\n",
       "      <td>0</td>\n",
       "      <td>1</td>\n",
       "      <td>0</td>\n",
       "      <td>0</td>\n",
       "      <td>1</td>\n",
       "      <td>12</td>\n",
       "      <td>1</td>\n",
       "      <td>31</td>\n",
       "      <td>113.202938</td>\n",
       "      <td>7</td>\n",
       "      <td>1.910244</td>\n",
       "      <td>0</td>\n",
       "    </tr>\n",
       "    <tr>\n",
       "      <td>2</td>\n",
       "      <td>0</td>\n",
       "      <td>1</td>\n",
       "      <td>1</td>\n",
       "      <td>0</td>\n",
       "      <td>1</td>\n",
       "      <td>1</td>\n",
       "      <td>0</td>\n",
       "      <td>28</td>\n",
       "      <td>129.448479</td>\n",
       "      <td>2</td>\n",
       "      <td>1.736502</td>\n",
       "      <td>0</td>\n",
       "    </tr>\n",
       "    <tr>\n",
       "      <td>3</td>\n",
       "      <td>0</td>\n",
       "      <td>1</td>\n",
       "      <td>1</td>\n",
       "      <td>1</td>\n",
       "      <td>1</td>\n",
       "      <td>12</td>\n",
       "      <td>1</td>\n",
       "      <td>33</td>\n",
       "      <td>62.669863</td>\n",
       "      <td>2</td>\n",
       "      <td>3.357215</td>\n",
       "      <td>0</td>\n",
       "    </tr>\n",
       "    <tr>\n",
       "      <td>4</td>\n",
       "      <td>1</td>\n",
       "      <td>1</td>\n",
       "      <td>1</td>\n",
       "      <td>1</td>\n",
       "      <td>1</td>\n",
       "      <td>1</td>\n",
       "      <td>0</td>\n",
       "      <td>26</td>\n",
       "      <td>198.362265</td>\n",
       "      <td>3</td>\n",
       "      <td>1.120078</td>\n",
       "      <td>0</td>\n",
       "    </tr>\n",
       "  </tbody>\n",
       "</table>\n",
       "</div>"
      ],
      "text/plain": [
       "   gender  Near_Location  Partner  Promo_friends  Phone  Contract_period  \\\n",
       "0       1              1        1              1      0                6   \n",
       "1       0              1        0              0      1               12   \n",
       "2       0              1        1              0      1                1   \n",
       "3       0              1        1              1      1               12   \n",
       "4       1              1        1              1      1                1   \n",
       "\n",
       "   Group_visits  Age  Avg_additional_charges_total  Lifetime  \\\n",
       "0             1   29                     14.227470         3   \n",
       "1             1   31                    113.202938         7   \n",
       "2             0   28                    129.448479         2   \n",
       "3             1   33                     62.669863         2   \n",
       "4             0   26                    198.362265         3   \n",
       "\n",
       "   Avg_class_frequency_current_month  Churn  \n",
       "0                           0.000000      0  \n",
       "1                           1.910244      0  \n",
       "2                           1.736502      0  \n",
       "3                           3.357215      0  \n",
       "4                           1.120078      0  "
      ]
     },
     "execution_count": 11,
     "metadata": {},
     "output_type": "execute_result"
    }
   ],
   "source": [
    "data_new = data.drop(['Avg_class_frequency_total', 'Month_to_end_contract'], axis = 1)\n",
    "data_new.head()"
   ]
  },
  {
   "cell_type": "code",
   "execution_count": 12,
   "metadata": {
    "scrolled": true
   },
   "outputs": [],
   "source": [
    "rf_model = RandomForestClassifier(n_estimators = 100, random_state=0)\n",
    "rf_model.fit(X_train_st, y_train)\n",
    "y_pred = rf_model.predict(X_test_st)"
   ]
  },
  {
   "cell_type": "markdown",
   "metadata": {},
   "source": [
    "Оценим метрики accuracy, precision и recall для обеих моделей на валидационной выборке. Сравним по ним модели. "
   ]
  },
  {
   "cell_type": "code",
   "execution_count": 13,
   "metadata": {},
   "outputs": [
    {
     "name": "stdout",
     "output_type": "stream",
     "text": [
      "Accuracy: 0.92\n",
      "Precision: 0.85\n",
      "Recall: 0.83\n",
      "Accuracy: 0.92\n",
      "Precision: 0.84\n",
      "Recall: 0.81\n"
     ]
    }
   ],
   "source": [
    "for o in [pred,y_pred]:\n",
    "    print('Accuracy: {:.2f}'.format(accuracy_score(y_test, o)))\n",
    "    print('Precision: {:.2f}'.format(precision_score(y_test, o)))\n",
    "    print('Recall: {:.2f}'.format(recall_score(y_test, o)))"
   ]
  },
  {
   "cell_type": "markdown",
   "metadata": {},
   "source": [
    "Доля верно угаданных ответов из всех прогнозов для обеих моделей равна 92%. Точность и полнота чуть выше в модели логистической регрессии. Таким образом, модель логистической регрессии показала себя лучше."
   ]
  },
  {
   "cell_type": "markdown",
   "metadata": {},
   "source": [
    "Посмотрим на коэффициенты признаков в оптимальной функции логистической регрессии."
   ]
  },
  {
   "cell_type": "code",
   "execution_count": 14,
   "metadata": {},
   "outputs": [
    {
     "data": {
      "text/html": [
       "<div>\n",
       "<style scoped>\n",
       "    .dataframe tbody tr th:only-of-type {\n",
       "        vertical-align: middle;\n",
       "    }\n",
       "\n",
       "    .dataframe tbody tr th {\n",
       "        vertical-align: top;\n",
       "    }\n",
       "\n",
       "    .dataframe thead th {\n",
       "        text-align: right;\n",
       "    }\n",
       "</style>\n",
       "<table border=\"1\" class=\"dataframe\">\n",
       "  <thead>\n",
       "    <tr style=\"text-align: right;\">\n",
       "      <th></th>\n",
       "      <th>feature</th>\n",
       "      <th>coef</th>\n",
       "    </tr>\n",
       "  </thead>\n",
       "  <tbody>\n",
       "    <tr>\n",
       "      <td>12</td>\n",
       "      <td>Avg_class_frequency_current_month</td>\n",
       "      <td>4.426492</td>\n",
       "    </tr>\n",
       "    <tr>\n",
       "      <td>10</td>\n",
       "      <td>Lifetime</td>\n",
       "      <td>3.720057</td>\n",
       "    </tr>\n",
       "    <tr>\n",
       "      <td>11</td>\n",
       "      <td>Avg_class_frequency_total</td>\n",
       "      <td>3.290506</td>\n",
       "    </tr>\n",
       "    <tr>\n",
       "      <td>7</td>\n",
       "      <td>Age</td>\n",
       "      <td>1.074359</td>\n",
       "    </tr>\n",
       "    <tr>\n",
       "      <td>5</td>\n",
       "      <td>Contract_period</td>\n",
       "      <td>0.703741</td>\n",
       "    </tr>\n",
       "    <tr>\n",
       "      <td>8</td>\n",
       "      <td>Avg_additional_charges_total</td>\n",
       "      <td>0.541020</td>\n",
       "    </tr>\n",
       "    <tr>\n",
       "      <td>9</td>\n",
       "      <td>Month_to_end_contract</td>\n",
       "      <td>0.520089</td>\n",
       "    </tr>\n",
       "    <tr>\n",
       "      <td>6</td>\n",
       "      <td>Group_visits</td>\n",
       "      <td>0.385778</td>\n",
       "    </tr>\n",
       "    <tr>\n",
       "      <td>3</td>\n",
       "      <td>Promo_friends</td>\n",
       "      <td>0.268180</td>\n",
       "    </tr>\n",
       "    <tr>\n",
       "      <td>2</td>\n",
       "      <td>Partner</td>\n",
       "      <td>0.082845</td>\n",
       "    </tr>\n",
       "    <tr>\n",
       "      <td>1</td>\n",
       "      <td>Near_Location</td>\n",
       "      <td>0.075301</td>\n",
       "    </tr>\n",
       "    <tr>\n",
       "      <td>0</td>\n",
       "      <td>gender</td>\n",
       "      <td>0.013051</td>\n",
       "    </tr>\n",
       "    <tr>\n",
       "      <td>4</td>\n",
       "      <td>Phone</td>\n",
       "      <td>0.005220</td>\n",
       "    </tr>\n",
       "  </tbody>\n",
       "</table>\n",
       "</div>"
      ],
      "text/plain": [
       "                              feature      coef\n",
       "12  Avg_class_frequency_current_month  4.426492\n",
       "10                           Lifetime  3.720057\n",
       "11          Avg_class_frequency_total  3.290506\n",
       "7                                 Age  1.074359\n",
       "5                     Contract_period  0.703741\n",
       "8        Avg_additional_charges_total  0.541020\n",
       "9               Month_to_end_contract  0.520089\n",
       "6                        Group_visits  0.385778\n",
       "3                       Promo_friends  0.268180\n",
       "2                             Partner  0.082845\n",
       "1                       Near_Location  0.075301\n",
       "0                              gender  0.013051\n",
       "4                               Phone  0.005220"
      ]
     },
     "execution_count": 14,
     "metadata": {},
     "output_type": "execute_result"
    }
   ],
   "source": [
    "features = pd.DataFrame(model.coef_.T, X.columns).reset_index()\n",
    "features.columns = ['feature', 'coef']\n",
    "features['coef'] = features['coef'].apply(lambda x: abs(x))\n",
    "features = features.sort_values(by='coef', ascending=False)\n",
    "features"
   ]
  },
  {
   "cell_type": "markdown",
   "metadata": {},
   "source": [
    "Самый высокий коэффициент у Avg_class_frequency_current_month (средняя частота посещений в неделю за предыдущий месяц), на втором месте Lifetime (время с момента первого обращения в фитнес-центр в месяцах) и на третьем Avg_class_frequency_total (средняя частота посещений в неделю за все время с начала действия абонемента)"
   ]
  },
  {
   "cell_type": "markdown",
   "metadata": {},
   "source": [
    "### Вывод"
   ]
  },
  {
   "cell_type": "markdown",
   "metadata": {},
   "source": [
    "Судя по метрикам модель логистической регрессии показала себя лучше. 92% правильно угаданных данных среди всех прогнозов, 85% правильно угаданных среди целевого класса(ущедщих в отток) и 83% объектов целевого класса модель смогла обнаружить.  \n",
    "В целом показатели эффективности модели далеки от идеала. Возможно стоит попробывать другие методы предсказаний."
   ]
  },
  {
   "cell_type": "markdown",
   "metadata": {},
   "source": [
    "## Кластеризация клиентов"
   ]
  },
  {
   "cell_type": "markdown",
   "metadata": {},
   "source": [
    "Построим матрицу расстояний на стандартизованной матрице признаков и нарисуем дендрограмму"
   ]
  },
  {
   "cell_type": "markdown",
   "metadata": {},
   "source": [
    "Обучаем нормализатор и преобразуем набор данных"
   ]
  },
  {
   "cell_type": "code",
   "execution_count": 15,
   "metadata": {},
   "outputs": [],
   "source": [
    "data_sc = scaler.fit_transform(data.drop(columns = ['Churn']))"
   ]
  },
  {
   "cell_type": "markdown",
   "metadata": {},
   "source": [
    "Применяем функцию linkage() и выводим дендрограмму."
   ]
  },
  {
   "cell_type": "code",
   "execution_count": 16,
   "metadata": {},
   "outputs": [
    {
     "data": {
      "image/png": "[encoded data removed]",
      "text/plain": [
       "<Figure size 1080x720 with 1 Axes>"
      ]
     },
     "metadata": {
      "needs_background": "light"
     },
     "output_type": "display_data"
    }
   ],
   "source": [
    "linked = linkage(data_sc, method = 'ward')\n",
    "plt.figure(figsize=(15, 10))  \n",
    "dendrogram(linked, orientation='top')\n",
    "plt.title('Иерархическая кластеризация')\n",
    "plt.show() "
   ]
  },
  {
   "cell_type": "markdown",
   "metadata": {},
   "source": [
    "На дендрограмме явно выделены 4 кластера"
   ]
  },
  {
   "cell_type": "markdown",
   "metadata": {},
   "source": [
    "Обучим модель кластеризации на основании алгоритма K-Means и спрогнозируем кластеры клиентов. Договоримся за число кластеров принять n=5, по условиям ТЗ."
   ]
  },
  {
   "cell_type": "code",
   "execution_count": 17,
   "metadata": {},
   "outputs": [
    {
     "data": {
      "text/html": [
       "<div>\n",
       "<style scoped>\n",
       "    .dataframe tbody tr th:only-of-type {\n",
       "        vertical-align: middle;\n",
       "    }\n",
       "\n",
       "    .dataframe tbody tr th {\n",
       "        vertical-align: top;\n",
       "    }\n",
       "\n",
       "    .dataframe thead th {\n",
       "        text-align: right;\n",
       "    }\n",
       "</style>\n",
       "<table border=\"1\" class=\"dataframe\">\n",
       "  <thead>\n",
       "    <tr style=\"text-align: right;\">\n",
       "      <th></th>\n",
       "      <th>gender</th>\n",
       "      <th>Near_Location</th>\n",
       "      <th>Partner</th>\n",
       "      <th>Promo_friends</th>\n",
       "      <th>Phone</th>\n",
       "      <th>Contract_period</th>\n",
       "      <th>Group_visits</th>\n",
       "      <th>Age</th>\n",
       "      <th>Avg_additional_charges_total</th>\n",
       "      <th>Month_to_end_contract</th>\n",
       "      <th>Lifetime</th>\n",
       "      <th>Avg_class_frequency_total</th>\n",
       "      <th>Avg_class_frequency_current_month</th>\n",
       "      <th>Churn</th>\n",
       "      <th>cluster_km</th>\n",
       "    </tr>\n",
       "  </thead>\n",
       "  <tbody>\n",
       "    <tr>\n",
       "      <td>0</td>\n",
       "      <td>1</td>\n",
       "      <td>1</td>\n",
       "      <td>1</td>\n",
       "      <td>1</td>\n",
       "      <td>0</td>\n",
       "      <td>6</td>\n",
       "      <td>1</td>\n",
       "      <td>29</td>\n",
       "      <td>14.227470</td>\n",
       "      <td>5.0</td>\n",
       "      <td>3</td>\n",
       "      <td>0.020398</td>\n",
       "      <td>0.000000</td>\n",
       "      <td>0</td>\n",
       "      <td>1</td>\n",
       "    </tr>\n",
       "    <tr>\n",
       "      <td>1</td>\n",
       "      <td>0</td>\n",
       "      <td>1</td>\n",
       "      <td>0</td>\n",
       "      <td>0</td>\n",
       "      <td>1</td>\n",
       "      <td>12</td>\n",
       "      <td>1</td>\n",
       "      <td>31</td>\n",
       "      <td>113.202938</td>\n",
       "      <td>12.0</td>\n",
       "      <td>7</td>\n",
       "      <td>1.922936</td>\n",
       "      <td>1.910244</td>\n",
       "      <td>0</td>\n",
       "      <td>0</td>\n",
       "    </tr>\n",
       "    <tr>\n",
       "      <td>2</td>\n",
       "      <td>0</td>\n",
       "      <td>1</td>\n",
       "      <td>1</td>\n",
       "      <td>0</td>\n",
       "      <td>1</td>\n",
       "      <td>1</td>\n",
       "      <td>0</td>\n",
       "      <td>28</td>\n",
       "      <td>129.448479</td>\n",
       "      <td>1.0</td>\n",
       "      <td>2</td>\n",
       "      <td>1.859098</td>\n",
       "      <td>1.736502</td>\n",
       "      <td>0</td>\n",
       "      <td>3</td>\n",
       "    </tr>\n",
       "    <tr>\n",
       "      <td>3</td>\n",
       "      <td>0</td>\n",
       "      <td>1</td>\n",
       "      <td>1</td>\n",
       "      <td>1</td>\n",
       "      <td>1</td>\n",
       "      <td>12</td>\n",
       "      <td>1</td>\n",
       "      <td>33</td>\n",
       "      <td>62.669863</td>\n",
       "      <td>12.0</td>\n",
       "      <td>2</td>\n",
       "      <td>3.205633</td>\n",
       "      <td>3.357215</td>\n",
       "      <td>0</td>\n",
       "      <td>0</td>\n",
       "    </tr>\n",
       "    <tr>\n",
       "      <td>4</td>\n",
       "      <td>1</td>\n",
       "      <td>1</td>\n",
       "      <td>1</td>\n",
       "      <td>1</td>\n",
       "      <td>1</td>\n",
       "      <td>1</td>\n",
       "      <td>0</td>\n",
       "      <td>26</td>\n",
       "      <td>198.362265</td>\n",
       "      <td>1.0</td>\n",
       "      <td>3</td>\n",
       "      <td>1.113884</td>\n",
       "      <td>1.120078</td>\n",
       "      <td>0</td>\n",
       "      <td>3</td>\n",
       "    </tr>\n",
       "  </tbody>\n",
       "</table>\n",
       "</div>"
      ],
      "text/plain": [
       "   gender  Near_Location  Partner  Promo_friends  Phone  Contract_period  \\\n",
       "0       1              1        1              1      0                6   \n",
       "1       0              1        0              0      1               12   \n",
       "2       0              1        1              0      1                1   \n",
       "3       0              1        1              1      1               12   \n",
       "4       1              1        1              1      1                1   \n",
       "\n",
       "   Group_visits  Age  Avg_additional_charges_total  Month_to_end_contract  \\\n",
       "0             1   29                     14.227470                    5.0   \n",
       "1             1   31                    113.202938                   12.0   \n",
       "2             0   28                    129.448479                    1.0   \n",
       "3             1   33                     62.669863                   12.0   \n",
       "4             0   26                    198.362265                    1.0   \n",
       "\n",
       "   Lifetime  Avg_class_frequency_total  Avg_class_frequency_current_month  \\\n",
       "0         3                   0.020398                           0.000000   \n",
       "1         7                   1.922936                           1.910244   \n",
       "2         2                   1.859098                           1.736502   \n",
       "3         2                   3.205633                           3.357215   \n",
       "4         3                   1.113884                           1.120078   \n",
       "\n",
       "   Churn  cluster_km  \n",
       "0      0           1  \n",
       "1      0           0  \n",
       "2      0           3  \n",
       "3      0           0  \n",
       "4      0           3  "
      ]
     },
     "execution_count": 17,
     "metadata": {},
     "output_type": "execute_result"
    }
   ],
   "source": [
    "km = KMeans(n_clusters = 5, random_state=0) \n",
    "labels = km.fit_predict(data_sc) \n",
    "data['cluster_km'] = labels\n",
    "data.head()"
   ]
  },
  {
   "cell_type": "markdown",
   "metadata": {},
   "source": [
    "Посмотрим на средние значения признаков для кластеров."
   ]
  },
  {
   "cell_type": "code",
   "execution_count": 18,
   "metadata": {},
   "outputs": [
    {
     "data": {
      "text/html": [
       "<div>\n",
       "<style scoped>\n",
       "    .dataframe tbody tr th:only-of-type {\n",
       "        vertical-align: middle;\n",
       "    }\n",
       "\n",
       "    .dataframe tbody tr th {\n",
       "        vertical-align: top;\n",
       "    }\n",
       "\n",
       "    .dataframe thead th {\n",
       "        text-align: right;\n",
       "    }\n",
       "</style>\n",
       "<table border=\"1\" class=\"dataframe\">\n",
       "  <thead>\n",
       "    <tr style=\"text-align: right;\">\n",
       "      <th></th>\n",
       "      <th>gender</th>\n",
       "      <th>Near_Location</th>\n",
       "      <th>Partner</th>\n",
       "      <th>Promo_friends</th>\n",
       "      <th>Phone</th>\n",
       "      <th>Contract_period</th>\n",
       "      <th>Group_visits</th>\n",
       "      <th>Age</th>\n",
       "      <th>Avg_additional_charges_total</th>\n",
       "      <th>Month_to_end_contract</th>\n",
       "      <th>Lifetime</th>\n",
       "      <th>Avg_class_frequency_total</th>\n",
       "      <th>Avg_class_frequency_current_month</th>\n",
       "      <th>Churn</th>\n",
       "    </tr>\n",
       "    <tr>\n",
       "      <th>cluster_km</th>\n",
       "      <th></th>\n",
       "      <th></th>\n",
       "      <th></th>\n",
       "      <th></th>\n",
       "      <th></th>\n",
       "      <th></th>\n",
       "      <th></th>\n",
       "      <th></th>\n",
       "      <th></th>\n",
       "      <th></th>\n",
       "      <th></th>\n",
       "      <th></th>\n",
       "      <th></th>\n",
       "      <th></th>\n",
       "    </tr>\n",
       "  </thead>\n",
       "  <tbody>\n",
       "    <tr>\n",
       "      <td>0</td>\n",
       "      <td>0.502473</td>\n",
       "      <td>0.959446</td>\n",
       "      <td>0.783383</td>\n",
       "      <td>0.574679</td>\n",
       "      <td>1.000000</td>\n",
       "      <td>10.884273</td>\n",
       "      <td>0.543027</td>\n",
       "      <td>29.980218</td>\n",
       "      <td>160.706969</td>\n",
       "      <td>9.950544</td>\n",
       "      <td>4.738872</td>\n",
       "      <td>1.983305</td>\n",
       "      <td>1.976225</td>\n",
       "      <td>0.027695</td>\n",
       "    </tr>\n",
       "    <tr>\n",
       "      <td>1</td>\n",
       "      <td>0.522078</td>\n",
       "      <td>0.862338</td>\n",
       "      <td>0.470130</td>\n",
       "      <td>0.306494</td>\n",
       "      <td>0.000000</td>\n",
       "      <td>4.787013</td>\n",
       "      <td>0.425974</td>\n",
       "      <td>29.301299</td>\n",
       "      <td>143.957664</td>\n",
       "      <td>4.475325</td>\n",
       "      <td>3.924675</td>\n",
       "      <td>1.847220</td>\n",
       "      <td>1.716369</td>\n",
       "      <td>0.267532</td>\n",
       "    </tr>\n",
       "    <tr>\n",
       "      <td>2</td>\n",
       "      <td>0.495050</td>\n",
       "      <td>0.000000</td>\n",
       "      <td>0.463366</td>\n",
       "      <td>0.079208</td>\n",
       "      <td>1.000000</td>\n",
       "      <td>2.352475</td>\n",
       "      <td>0.215842</td>\n",
       "      <td>28.477228</td>\n",
       "      <td>135.457501</td>\n",
       "      <td>2.198020</td>\n",
       "      <td>2.809901</td>\n",
       "      <td>1.660461</td>\n",
       "      <td>1.477324</td>\n",
       "      <td>0.443564</td>\n",
       "    </tr>\n",
       "    <tr>\n",
       "      <td>3</td>\n",
       "      <td>0.485737</td>\n",
       "      <td>1.000000</td>\n",
       "      <td>0.350238</td>\n",
       "      <td>0.240095</td>\n",
       "      <td>1.000000</td>\n",
       "      <td>1.948494</td>\n",
       "      <td>0.341521</td>\n",
       "      <td>28.167987</td>\n",
       "      <td>131.622204</td>\n",
       "      <td>1.856577</td>\n",
       "      <td>2.440571</td>\n",
       "      <td>1.247634</td>\n",
       "      <td>1.012983</td>\n",
       "      <td>0.514263</td>\n",
       "    </tr>\n",
       "    <tr>\n",
       "      <td>4</td>\n",
       "      <td>0.560335</td>\n",
       "      <td>0.976105</td>\n",
       "      <td>0.356033</td>\n",
       "      <td>0.229391</td>\n",
       "      <td>0.998805</td>\n",
       "      <td>2.665472</td>\n",
       "      <td>0.473118</td>\n",
       "      <td>30.127838</td>\n",
       "      <td>161.724258</td>\n",
       "      <td>2.455197</td>\n",
       "      <td>4.896057</td>\n",
       "      <td>2.851531</td>\n",
       "      <td>2.849473</td>\n",
       "      <td>0.068100</td>\n",
       "    </tr>\n",
       "  </tbody>\n",
       "</table>\n",
       "</div>"
      ],
      "text/plain": [
       "              gender  Near_Location   Partner  Promo_friends     Phone  \\\n",
       "cluster_km                                                               \n",
       "0           0.502473       0.959446  0.783383       0.574679  1.000000   \n",
       "1           0.522078       0.862338  0.470130       0.306494  0.000000   \n",
       "2           0.495050       0.000000  0.463366       0.079208  1.000000   \n",
       "3           0.485737       1.000000  0.350238       0.240095  1.000000   \n",
       "4           0.560335       0.976105  0.356033       0.229391  0.998805   \n",
       "\n",
       "            Contract_period  Group_visits        Age  \\\n",
       "cluster_km                                             \n",
       "0                 10.884273      0.543027  29.980218   \n",
       "1                  4.787013      0.425974  29.301299   \n",
       "2                  2.352475      0.215842  28.477228   \n",
       "3                  1.948494      0.341521  28.167987   \n",
       "4                  2.665472      0.473118  30.127838   \n",
       "\n",
       "            Avg_additional_charges_total  Month_to_end_contract  Lifetime  \\\n",
       "cluster_km                                                                  \n",
       "0                             160.706969               9.950544  4.738872   \n",
       "1                             143.957664               4.475325  3.924675   \n",
       "2                             135.457501               2.198020  2.809901   \n",
       "3                             131.622204               1.856577  2.440571   \n",
       "4                             161.724258               2.455197  4.896057   \n",
       "\n",
       "            Avg_class_frequency_total  Avg_class_frequency_current_month  \\\n",
       "cluster_km                                                                 \n",
       "0                            1.983305                           1.976225   \n",
       "1                            1.847220                           1.716369   \n",
       "2                            1.660461                           1.477324   \n",
       "3                            1.247634                           1.012983   \n",
       "4                            2.851531                           2.849473   \n",
       "\n",
       "               Churn  \n",
       "cluster_km            \n",
       "0           0.027695  \n",
       "1           0.267532  \n",
       "2           0.443564  \n",
       "3           0.514263  \n",
       "4           0.068100  "
      ]
     },
     "execution_count": 18,
     "metadata": {},
     "output_type": "execute_result"
    }
   ],
   "source": [
    "data.groupby('cluster_km').mean()"
   ]
  },
  {
   "cell_type": "markdown",
   "metadata": {},
   "source": [
    "Кластер 0\n",
    "Живут или работают недалеко от фитнес-центра\n",
    "78% работают в компаниях-партнёрах клуба\n",
    "Всех чаще посещают первый раз клуб по акции пригласи друга\n",
    "Указывают номер телефона в анкете\n",
    "Чаще других заключают договора на длительный срок - 12 месяцев\n",
    "Чаще других кластеров посещают групповые занятия\n",
    "В среднем посещают фитнес-центр 2 раза в неделю.\n",
    "Отток 3% - самые лояльные клиенты.\n",
    "\n",
    "Кластер 1\n",
    "Живут или работают недалеко от фитнес-центра\n",
    "47% работают в компаниях-партнёрах клуба\n",
    "Не указывают мобильный телефон\n",
    "В среднем 4.7 месяцев контрактов\n",
    "В среднем посещают фитнес-центр 1-2 раза в неделю.\n",
    "Отток - 27%\n",
    "\n",
    "Кластер 2\n",
    "Живут или работают в другом районе\n",
    "Всего лишь 7% пришли по промо акции\n",
    "Реже всех посещают групповые занятия\n",
    "В среднем посещают фитнес-центр 1-2 раза в неделю\n",
    "Отток - 44%\n",
    "\n",
    "Кластер 3\n",
    "Живут или работают недалеко от фитнес-центра\n",
    "Указывают номер телефона в анкете\n",
    "В основном обладатели недолгосрочных абонементов на 1-3 месяца\n",
    "Наименьшее кол-во посещений за всё время и в последний месяц, примерно 1 раз в неделю\n",
    "Отток - 51% - самый высокий\n",
    "\n",
    "Кластер 4\n",
    "Живут или работают недалеко от фитнес-центра\n",
    "Указывают номер телефона в анкете\n",
    "Чаще всех посещают клуб 2-3 раза в неделю\n",
    "Заключают договора на 3-6 месяцев\n",
    "Отток - 7%"
   ]
  },
  {
   "cell_type": "markdown",
   "metadata": {},
   "source": [
    "Построим распределение признаков для кластеров."
   ]
  },
  {
   "cell_type": "code",
   "execution_count": null,
   "metadata": {
    "scrolled": true
   },
   "outputs": [
    {
     "data": {
      "image/png": "[encoded data removed]",
      "text/plain": [
       "<Figure size 1224x720 with 16 Axes>"
      ]
     },
     "metadata": {
      "needs_background": "light"
     },
     "output_type": "display_data"
    }
   ],
   "source": [
    "for q in [0, 1, 2, 3, 4]:\n",
    "    data[data['cluster_km']==q].hist(figsize=(17,10))\n",
    "    plt.suptitle('\\nРаспределение признаков для кластера {}'.format(q))\n",
    "    plt.show()    "
   ]
  },
  {
   "cell_type": "markdown",
   "metadata": {},
   "source": [
    "Выведем долю оттока для каждого кластера. "
   ]
  },
  {
   "cell_type": "code",
   "execution_count": null,
   "metadata": {},
   "outputs": [],
   "source": [
    "data.groupby('cluster_km')['Churn'].mean()"
   ]
  },
  {
   "cell_type": "markdown",
   "metadata": {},
   "source": [
    "### Вывод"
   ]
  },
  {
   "cell_type": "markdown",
   "metadata": {},
   "source": [
    "Самый низкий процент оттока у кластера 0, всего 3%. Клиенты этого кластера чаще других заключают договора на длительный срок - 12 месяцев, чаще других кластеров посещают групповые занятия, чаще посещают первый раз клуб по акции пригласи друга, в среднем посещают фитнес-центр 2 раза в неделю. Живут или работают недалеко от фитнес-центра и 78% работают в компаниях-партнёрах клуба\n",
    "Отток 3% - самые лояльные клиенты.\n",
    "\n",
    "Самый высокий процент оттока у клиентов кластера 1 - 52% Они живут или работают недалеко от фитнес-центра, в основном обладатели недолгосрочных абонементов на 1-3 месяца и редко посещают фитнес-центр примерно 1 раз в неделю"
   ]
  },
  {
   "cell_type": "markdown",
   "metadata": {},
   "source": [
    "## Выводы и базовые рекомендации по работе с клиентами"
   ]
  },
  {
   "cell_type": "markdown",
   "metadata": {},
   "source": [
    "Для того чтобы бороться с оттоком, отдел по работе с клиентами «Культуриста-датасаентиста» перевёл в электронный вид множество клиентских анкет. Был проведен анализ который показал следуюшие результаты:.\n",
    "На текущий момент доля оттока по клиентам составляет 27%\n",
    "Распределение по полу примерно одинаковое \n",
    "85% живет или работает рядом с фитнес-клубом\n",
    "Примерно половина клиентов являются сотрудниками партнерских организаций\n",
    "Около 30% клиентов пришли по программе \"Приведи друга\"\n",
    "Известны мобильные номера примерно 90% клиентов\n",
    "Средняя длительность абонементов клиентов - 4,7 месяцев\n",
    "41% клиентов посещают групповые занятия\n",
    "Средний возраст клиентов 29 лет\n",
    "\n",
    "Была построена модель прогнозирования оттока клиентов. Её точность составляет 92%.\n",
    "\n",
    "Так же были спрогнозированы 5 клиентских кластеров. На основе анализа их особенностей можно выделить следующие закономерности:\n",
    "Половые различия не влияют на решение посещать фитнес-центр или нет\n",
    "Ближе живущие или работающие клиенты реже попадают в отток\n",
    "Сотрудники компаний-партнеров реже перестают посещать фитнесс-клуб\n",
    "Клиенты, пришедшие по акции \"Приведи друга\" в два раза реже уходят в отток\n",
    "Чем больше средняя длительность договора, тем реже уходят в отток.\n",
    "Количество посещений в предыдущий месяц в два раза ниже у клиентов,кто перестал посещать фитнес - центр\n",
    "\n",
    "Рекомендации:\n",
    "\n",
    "Используя модель предсказания плотно работать с клиентами, которые могут попасть в отток в следующем месяце.\n",
    "\n",
    "Так же обращать особое внимание на клиентов кто посещает фитнес центр реже 2-х раз в неделю, это первый признак ухода клиента в отток.\n",
    "\n",
    "Обратить особое внимание на клиентов - сотрудников компаний-партнеров, выявить причины ухода, предложить акции. \n",
    "\n",
    "Не тратить время менеджеров на клиентов кто не живет или не работает рядом с фитнес-клубом, скорее всего они будут посещать фитнес-центр не долго.\n",
    "\n",
    "Напоминать посетителям об акции \"приведи друга\", возможно не все о ней знают\n",
    "\n",
    "Повысить мотивацию менеджеров за реализацию долгосрочных абонементов на 12 месяцев\n",
    "\n",
    "Разобраться почему в данных нет информации о клиентах с действием абонемента на 3 месяца. Это ошибка в данных или данный абонемент не пользуется популярностью."
   ]
  }
 ],
 "metadata": {
  "ExecuteTimeLog": [
   {
    "duration": 731,
    "start_time": "2021-06-10T06:38:28.186Z"
   },
   {
    "duration": 33,
    "start_time": "2021-06-10T06:38:30.124Z"
   },
   {
    "duration": 52,
    "start_time": "2021-06-10T06:38:58.399Z"
   },
   {
    "duration": 17,
    "start_time": "2021-06-10T06:42:42.663Z"
   },
   {
    "duration": 71,
    "start_time": "2021-06-10T06:43:08.212Z"
   },
   {
    "duration": 122,
    "start_time": "2021-06-10T06:46:22.833Z"
   },
   {
    "duration": 23,
    "start_time": "2021-06-10T06:47:01.717Z"
   },
   {
    "duration": 32462,
    "start_time": "2021-06-10T06:54:57.449Z"
   },
   {
    "duration": 433,
    "start_time": "2021-06-10T06:59:19.941Z"
   },
   {
    "duration": 733,
    "start_time": "2021-06-10T06:59:42.129Z"
   },
   {
    "duration": 784,
    "start_time": "2021-06-10T06:59:47.368Z"
   },
   {
    "duration": 4,
    "start_time": "2021-06-10T07:00:09.540Z"
   },
   {
    "duration": 5348,
    "start_time": "2021-06-10T07:00:13.877Z"
   },
   {
    "duration": 5899,
    "start_time": "2021-06-10T07:08:01.739Z"
   },
   {
    "duration": 1484,
    "start_time": "2021-06-10T07:13:44.303Z"
   },
   {
    "duration": 610,
    "start_time": "2021-06-10T07:14:25.639Z"
   },
   {
    "duration": 1537,
    "start_time": "2021-06-10T07:14:38.878Z"
   },
   {
    "duration": 2194,
    "start_time": "2021-06-10T07:15:16.221Z"
   },
   {
    "duration": 1747,
    "start_time": "2021-06-10T07:15:29.076Z"
   },
   {
    "duration": 18,
    "start_time": "2021-06-10T07:31:47.239Z"
   },
   {
    "duration": 266,
    "start_time": "2021-06-10T07:42:00.809Z"
   },
   {
    "duration": 50,
    "start_time": "2021-06-10T07:42:29.904Z"
   },
   {
    "duration": 275,
    "start_time": "2021-06-10T07:42:36.805Z"
   },
   {
    "duration": 4,
    "start_time": "2021-06-10T07:43:52.902Z"
   },
   {
    "duration": 9,
    "start_time": "2021-06-10T07:43:57.749Z"
   },
   {
    "duration": 446,
    "start_time": "2021-06-10T07:44:00.397Z"
   },
   {
    "duration": 90,
    "start_time": "2021-06-10T07:44:44.993Z"
   },
   {
    "duration": 56,
    "start_time": "2021-06-10T07:47:58.226Z"
   },
   {
    "duration": 51,
    "start_time": "2021-06-10T08:07:36.271Z"
   },
   {
    "duration": 309,
    "start_time": "2021-06-10T08:07:48.408Z"
   },
   {
    "duration": 29,
    "start_time": "2021-06-10T08:07:58.952Z"
   },
   {
    "duration": 831,
    "start_time": "2021-06-10T08:08:04.967Z"
   },
   {
    "duration": 55,
    "start_time": "2021-06-10T08:11:44.442Z"
   },
   {
    "duration": 278,
    "start_time": "2021-06-10T08:14:04.846Z"
   },
   {
    "duration": 254,
    "start_time": "2021-06-10T08:14:30.539Z"
   },
   {
    "duration": 118,
    "start_time": "2021-06-10T08:14:41.867Z"
   },
   {
    "duration": 51,
    "start_time": "2021-06-10T08:14:46.113Z"
   },
   {
    "duration": 829,
    "start_time": "2021-06-10T08:14:48.027Z"
   },
   {
    "duration": 247,
    "start_time": "2021-06-10T08:14:50.643Z"
   },
   {
    "duration": 5,
    "start_time": "2021-06-10T08:15:30.606Z"
   },
   {
    "duration": 342,
    "start_time": "2021-06-10T08:15:36.089Z"
   },
   {
    "duration": 835,
    "start_time": "2021-06-10T08:16:32.421Z"
   },
   {
    "duration": 1102,
    "start_time": "2021-06-10T08:21:04.408Z"
   },
   {
    "duration": 842,
    "start_time": "2021-06-10T08:25:12.984Z"
   },
   {
    "duration": 1108,
    "start_time": "2021-06-10T08:33:00.974Z"
   },
   {
    "duration": 4,
    "start_time": "2021-06-10T08:37:11.355Z"
   },
   {
    "duration": 9,
    "start_time": "2021-06-10T08:37:18.796Z"
   },
   {
    "duration": 29,
    "start_time": "2021-06-10T08:37:52.671Z"
   },
   {
    "duration": 26,
    "start_time": "2021-06-10T08:37:58.866Z"
   },
   {
    "duration": 417,
    "start_time": "2021-06-10T08:38:03.531Z"
   },
   {
    "duration": 1103,
    "start_time": "2021-06-10T08:38:19.975Z"
   },
   {
    "duration": 1093,
    "start_time": "2021-06-10T08:38:41.489Z"
   },
   {
    "duration": 855,
    "start_time": "2021-06-10T08:38:51.781Z"
   },
   {
    "duration": 263,
    "start_time": "2021-06-10T08:43:13.384Z"
   },
   {
    "duration": 272,
    "start_time": "2021-06-10T08:44:53.368Z"
   },
   {
    "duration": 247,
    "start_time": "2021-06-10T08:51:13.481Z"
   },
   {
    "duration": 4,
    "start_time": "2021-06-10T08:51:22.497Z"
   },
   {
    "duration": 455,
    "start_time": "2021-06-10T08:51:33.929Z"
   },
   {
    "duration": 9,
    "start_time": "2021-06-10T08:51:55.467Z"
   },
   {
    "duration": 16,
    "start_time": "2021-06-10T08:52:21.081Z"
   },
   {
    "duration": 1491,
    "start_time": "2021-06-11T06:06:09.621Z"
   },
   {
    "duration": 48,
    "start_time": "2021-06-11T06:06:11.114Z"
   },
   {
    "duration": 17,
    "start_time": "2021-06-11T06:06:11.165Z"
   },
   {
    "duration": 94,
    "start_time": "2021-06-11T06:06:11.185Z"
   },
   {
    "duration": 22,
    "start_time": "2021-06-11T06:06:11.281Z"
   },
   {
    "duration": 5398,
    "start_time": "2021-06-11T06:06:11.306Z"
   },
   {
    "duration": 5359,
    "start_time": "2021-06-11T06:06:16.706Z"
   },
   {
    "duration": 94,
    "start_time": "2021-06-11T06:06:22.069Z"
   },
   {
    "duration": -29,
    "start_time": "2021-06-11T06:06:22.196Z"
   },
   {
    "duration": -31,
    "start_time": "2021-06-11T06:06:22.199Z"
   },
   {
    "duration": -32,
    "start_time": "2021-06-11T06:06:22.203Z"
   },
   {
    "duration": -33,
    "start_time": "2021-06-11T06:06:22.206Z"
   },
   {
    "duration": -37,
    "start_time": "2021-06-11T06:06:22.212Z"
   },
   {
    "duration": -38,
    "start_time": "2021-06-11T06:06:22.215Z"
   },
   {
    "duration": -39,
    "start_time": "2021-06-11T06:06:22.218Z"
   },
   {
    "duration": -40,
    "start_time": "2021-06-11T06:06:22.220Z"
   },
   {
    "duration": -41,
    "start_time": "2021-06-11T06:06:22.223Z"
   },
   {
    "duration": -41,
    "start_time": "2021-06-11T06:06:22.226Z"
   },
   {
    "duration": -44,
    "start_time": "2021-06-11T06:06:22.230Z"
   },
   {
    "duration": 1758,
    "start_time": "2021-06-11T06:06:36.664Z"
   },
   {
    "duration": 91,
    "start_time": "2021-06-11T06:06:38.425Z"
   },
   {
    "duration": -581,
    "start_time": "2021-06-11T06:06:39.100Z"
   },
   {
    "duration": -583,
    "start_time": "2021-06-11T06:06:39.104Z"
   },
   {
    "duration": -585,
    "start_time": "2021-06-11T06:06:39.107Z"
   },
   {
    "duration": -593,
    "start_time": "2021-06-11T06:06:39.116Z"
   },
   {
    "duration": -596,
    "start_time": "2021-06-11T06:06:39.120Z"
   },
   {
    "duration": -598,
    "start_time": "2021-06-11T06:06:39.124Z"
   },
   {
    "duration": -605,
    "start_time": "2021-06-11T06:06:39.132Z"
   },
   {
    "duration": -607,
    "start_time": "2021-06-11T06:06:39.136Z"
   },
   {
    "duration": -609,
    "start_time": "2021-06-11T06:06:39.139Z"
   },
   {
    "duration": 27,
    "start_time": "2021-06-11T06:06:52.059Z"
   },
   {
    "duration": 12,
    "start_time": "2021-06-11T06:06:52.089Z"
   },
   {
    "duration": 11,
    "start_time": "2021-06-11T06:06:52.104Z"
   },
   {
    "duration": 148,
    "start_time": "2021-06-11T06:06:52.118Z"
   },
   {
    "duration": 470,
    "start_time": "2021-06-11T06:06:52.356Z"
   },
   {
    "duration": 29,
    "start_time": "2021-06-11T06:06:52.828Z"
   },
   {
    "duration": 11,
    "start_time": "2021-06-11T06:06:52.860Z"
   },
   {
    "duration": 5,
    "start_time": "2021-06-11T06:06:52.873Z"
   },
   {
    "duration": 25,
    "start_time": "2021-06-11T06:06:52.881Z"
   },
   {
    "duration": 7,
    "start_time": "2021-06-11T06:07:57.025Z"
   },
   {
    "duration": 10,
    "start_time": "2021-06-11T06:08:03.498Z"
   },
   {
    "duration": 89,
    "start_time": "2021-06-11T06:08:56.948Z"
   },
   {
    "duration": 88,
    "start_time": "2021-06-11T06:09:04.253Z"
   },
   {
    "duration": 395,
    "start_time": "2021-06-11T06:09:10.712Z"
   },
   {
    "duration": 11,
    "start_time": "2021-06-11T06:10:02.538Z"
   },
   {
    "duration": 260,
    "start_time": "2021-06-11T06:17:04.984Z"
   },
   {
    "duration": 5,
    "start_time": "2021-06-11T06:17:12.657Z"
   },
   {
    "duration": 131384,
    "start_time": "2021-06-11T06:17:17.490Z"
   },
   {
    "duration": 23,
    "start_time": "2021-06-11T06:31:31.737Z"
   },
   {
    "duration": 1731,
    "start_time": "2021-06-11T06:33:47.936Z"
   },
   {
    "duration": 26,
    "start_time": "2021-06-11T06:35:02.831Z"
   },
   {
    "duration": 289,
    "start_time": "2021-06-11T06:39:17.699Z"
   },
   {
    "duration": 358,
    "start_time": "2021-06-11T06:40:05.943Z"
   },
   {
    "duration": 245,
    "start_time": "2021-06-11T06:40:51.167Z"
   },
   {
    "duration": 526,
    "start_time": "2021-06-11T06:40:58.867Z"
   },
   {
    "duration": 4690,
    "start_time": "2021-06-11T06:57:34.101Z"
   },
   {
    "duration": 599,
    "start_time": "2021-06-11T07:00:38.888Z"
   },
   {
    "duration": 263,
    "start_time": "2021-06-11T07:12:29.367Z"
   },
   {
    "duration": 5,
    "start_time": "2021-06-11T07:12:56.845Z"
   },
   {
    "duration": 491,
    "start_time": "2021-06-11T07:13:01.182Z"
   },
   {
    "duration": 531,
    "start_time": "2021-06-11T07:13:26.976Z"
   },
   {
    "duration": 472,
    "start_time": "2021-06-11T07:13:46.096Z"
   },
   {
    "duration": 7946,
    "start_time": "2021-06-11T07:14:40.632Z"
   },
   {
    "duration": 9462,
    "start_time": "2021-06-11T07:28:00.202Z"
   },
   {
    "duration": 9526,
    "start_time": "2021-06-11T07:28:50.520Z"
   },
   {
    "duration": 6015,
    "start_time": "2021-06-11T07:29:57.044Z"
   },
   {
    "duration": 5803,
    "start_time": "2021-06-11T07:30:45.641Z"
   },
   {
    "duration": 6610,
    "start_time": "2021-06-11T07:32:23.892Z"
   },
   {
    "duration": 9,
    "start_time": "2021-06-11T08:13:38.404Z"
   },
   {
    "duration": 8,
    "start_time": "2021-06-11T08:14:28.040Z"
   },
   {
    "duration": 312,
    "start_time": "2021-06-11T08:15:40.679Z"
   },
   {
    "duration": 8,
    "start_time": "2021-06-11T08:15:47.375Z"
   },
   {
    "duration": 6,
    "start_time": "2021-06-11T08:16:56.223Z"
   },
   {
    "duration": 351,
    "start_time": "2021-06-15T06:24:25.750Z"
   },
   {
    "duration": 1481,
    "start_time": "2021-06-15T06:24:32.200Z"
   },
   {
    "duration": 52,
    "start_time": "2021-06-15T06:24:36.258Z"
   },
   {
    "duration": 406,
    "start_time": "2021-06-15T06:24:39.679Z"
   },
   {
    "duration": 366,
    "start_time": "2021-06-15T06:25:07.182Z"
   },
   {
    "duration": 8,
    "start_time": "2021-06-15T06:27:20.766Z"
   },
   {
    "duration": 15,
    "start_time": "2021-06-15T06:27:44.648Z"
   },
   {
    "duration": 8112,
    "start_time": "2021-06-15T06:29:08.835Z"
   },
   {
    "duration": 8943,
    "start_time": "2021-06-15T06:29:18.866Z"
   },
   {
    "duration": 6,
    "start_time": "2021-06-15T06:29:46.311Z"
   },
   {
    "duration": 94,
    "start_time": "2021-06-15T07:27:33.031Z"
   },
   {
    "duration": -273,
    "start_time": "2021-06-15T07:27:33.401Z"
   },
   {
    "duration": -277,
    "start_time": "2021-06-15T07:27:33.406Z"
   },
   {
    "duration": -282,
    "start_time": "2021-06-15T07:27:33.412Z"
   },
   {
    "duration": -285,
    "start_time": "2021-06-15T07:27:33.417Z"
   },
   {
    "duration": 87,
    "start_time": "2021-06-15T07:27:33.156Z"
   },
   {
    "duration": -190,
    "start_time": "2021-06-15T07:27:33.436Z"
   },
   {
    "duration": -194,
    "start_time": "2021-06-15T07:27:33.441Z"
   },
   {
    "duration": -201,
    "start_time": "2021-06-15T07:27:33.450Z"
   },
   {
    "duration": -206,
    "start_time": "2021-06-15T07:27:33.456Z"
   },
   {
    "duration": -209,
    "start_time": "2021-06-15T07:27:33.460Z"
   },
   {
    "duration": -211,
    "start_time": "2021-06-15T07:27:33.464Z"
   },
   {
    "duration": -213,
    "start_time": "2021-06-15T07:27:33.468Z"
   },
   {
    "duration": -216,
    "start_time": "2021-06-15T07:27:33.472Z"
   },
   {
    "duration": -220,
    "start_time": "2021-06-15T07:27:33.477Z"
   },
   {
    "duration": -259,
    "start_time": "2021-06-15T07:27:33.518Z"
   },
   {
    "duration": 266,
    "start_time": "2021-06-15T07:27:33.262Z"
   },
   {
    "duration": -207,
    "start_time": "2021-06-15T07:27:33.739Z"
   },
   {
    "duration": -211,
    "start_time": "2021-06-15T07:27:33.745Z"
   },
   {
    "duration": -216,
    "start_time": "2021-06-15T07:27:33.753Z"
   },
   {
    "duration": -218,
    "start_time": "2021-06-15T07:27:33.757Z"
   },
   {
    "duration": -220,
    "start_time": "2021-06-15T07:27:33.761Z"
   },
   {
    "duration": -222,
    "start_time": "2021-06-15T07:27:33.765Z"
   },
   {
    "duration": -224,
    "start_time": "2021-06-15T07:27:33.769Z"
   },
   {
    "duration": -225,
    "start_time": "2021-06-15T07:27:33.772Z"
   },
   {
    "duration": -228,
    "start_time": "2021-06-15T07:27:33.777Z"
   },
   {
    "duration": -230,
    "start_time": "2021-06-15T07:27:33.781Z"
   },
   {
    "duration": 5,
    "start_time": "2021-06-15T07:27:46.793Z"
   },
   {
    "duration": 57,
    "start_time": "2021-06-15T07:27:46.800Z"
   },
   {
    "duration": 13,
    "start_time": "2021-06-15T07:27:46.860Z"
   },
   {
    "duration": 19,
    "start_time": "2021-06-15T07:27:46.875Z"
   },
   {
    "duration": 100,
    "start_time": "2021-06-15T07:27:46.896Z"
   },
   {
    "duration": 1,
    "start_time": "2021-06-15T07:27:46.999Z"
   },
   {
    "duration": -4,
    "start_time": "2021-06-15T07:27:47.005Z"
   },
   {
    "duration": -7,
    "start_time": "2021-06-15T07:27:47.010Z"
   },
   {
    "duration": -45,
    "start_time": "2021-06-15T07:27:47.049Z"
   },
   {
    "duration": -48,
    "start_time": "2021-06-15T07:27:47.053Z"
   },
   {
    "duration": -51,
    "start_time": "2021-06-15T07:27:47.058Z"
   },
   {
    "duration": -69,
    "start_time": "2021-06-15T07:27:47.077Z"
   },
   {
    "duration": -71,
    "start_time": "2021-06-15T07:27:47.081Z"
   },
   {
    "duration": -73,
    "start_time": "2021-06-15T07:27:47.084Z"
   },
   {
    "duration": -75,
    "start_time": "2021-06-15T07:27:47.088Z"
   },
   {
    "duration": -78,
    "start_time": "2021-06-15T07:27:47.092Z"
   },
   {
    "duration": -103,
    "start_time": "2021-06-15T07:27:47.119Z"
   },
   {
    "duration": -104,
    "start_time": "2021-06-15T07:27:47.122Z"
   },
   {
    "duration": -106,
    "start_time": "2021-06-15T07:27:47.125Z"
   },
   {
    "duration": -107,
    "start_time": "2021-06-15T07:27:47.128Z"
   },
   {
    "duration": -107,
    "start_time": "2021-06-15T07:27:47.130Z"
   },
   {
    "duration": -109,
    "start_time": "2021-06-15T07:27:47.133Z"
   },
   {
    "duration": -109,
    "start_time": "2021-06-15T07:27:47.135Z"
   },
   {
    "duration": -111,
    "start_time": "2021-06-15T07:27:47.138Z"
   },
   {
    "duration": -111,
    "start_time": "2021-06-15T07:27:47.140Z"
   },
   {
    "duration": -113,
    "start_time": "2021-06-15T07:27:47.143Z"
   },
   {
    "duration": 72,
    "start_time": "2021-06-15T07:28:03.940Z"
   },
   {
    "duration": 110,
    "start_time": "2021-06-15T07:28:04.016Z"
   },
   {
    "duration": -2,
    "start_time": "2021-06-15T07:28:04.131Z"
   },
   {
    "duration": -8,
    "start_time": "2021-06-15T07:28:04.139Z"
   },
   {
    "duration": -14,
    "start_time": "2021-06-15T07:28:04.146Z"
   },
   {
    "duration": -19,
    "start_time": "2021-06-15T07:28:04.153Z"
   },
   {
    "duration": -27,
    "start_time": "2021-06-15T07:28:04.163Z"
   },
   {
    "duration": -34,
    "start_time": "2021-06-15T07:28:04.171Z"
   },
   {
    "duration": -36,
    "start_time": "2021-06-15T07:28:04.175Z"
   },
   {
    "duration": -39,
    "start_time": "2021-06-15T07:28:04.179Z"
   },
   {
    "duration": -87,
    "start_time": "2021-06-15T07:28:04.229Z"
   },
   {
    "duration": -93,
    "start_time": "2021-06-15T07:28:04.237Z"
   },
   {
    "duration": -99,
    "start_time": "2021-06-15T07:28:04.244Z"
   },
   {
    "duration": -102,
    "start_time": "2021-06-15T07:28:04.249Z"
   },
   {
    "duration": -106,
    "start_time": "2021-06-15T07:28:04.254Z"
   },
   {
    "duration": -110,
    "start_time": "2021-06-15T07:28:04.259Z"
   },
   {
    "duration": -112,
    "start_time": "2021-06-15T07:28:04.263Z"
   },
   {
    "duration": -115,
    "start_time": "2021-06-15T07:28:04.267Z"
   },
   {
    "duration": -119,
    "start_time": "2021-06-15T07:28:04.273Z"
   },
   {
    "duration": -124,
    "start_time": "2021-06-15T07:28:04.279Z"
   },
   {
    "duration": -127,
    "start_time": "2021-06-15T07:28:04.283Z"
   },
   {
    "duration": 25,
    "start_time": "2021-06-15T07:28:22.876Z"
   },
   {
    "duration": 88,
    "start_time": "2021-06-15T07:28:22.903Z"
   },
   {
    "duration": -25,
    "start_time": "2021-06-15T07:28:23.020Z"
   },
   {
    "duration": -28,
    "start_time": "2021-06-15T07:28:23.025Z"
   },
   {
    "duration": -30,
    "start_time": "2021-06-15T07:28:23.029Z"
   },
   {
    "duration": -34,
    "start_time": "2021-06-15T07:28:23.034Z"
   },
   {
    "duration": -37,
    "start_time": "2021-06-15T07:28:23.039Z"
   },
   {
    "duration": -41,
    "start_time": "2021-06-15T07:28:23.044Z"
   },
   {
    "duration": -43,
    "start_time": "2021-06-15T07:28:23.047Z"
   },
   {
    "duration": -49,
    "start_time": "2021-06-15T07:28:23.055Z"
   },
   {
    "duration": -51,
    "start_time": "2021-06-15T07:28:23.058Z"
   },
   {
    "duration": -54,
    "start_time": "2021-06-15T07:28:23.062Z"
   },
   {
    "duration": -56,
    "start_time": "2021-06-15T07:28:23.066Z"
   },
   {
    "duration": -60,
    "start_time": "2021-06-15T07:28:23.071Z"
   },
   {
    "duration": -63,
    "start_time": "2021-06-15T07:28:23.075Z"
   },
   {
    "duration": -69,
    "start_time": "2021-06-15T07:28:23.083Z"
   },
   {
    "duration": -72,
    "start_time": "2021-06-15T07:28:23.087Z"
   },
   {
    "duration": -76,
    "start_time": "2021-06-15T07:28:23.092Z"
   },
   {
    "duration": 6920,
    "start_time": "2021-06-15T07:28:38.005Z"
   },
   {
    "duration": 6284,
    "start_time": "2021-06-15T07:30:33.912Z"
   },
   {
    "duration": 5831,
    "start_time": "2021-06-15T07:31:13.468Z"
   },
   {
    "duration": 1927,
    "start_time": "2021-06-15T08:19:55.448Z"
   },
   {
    "duration": 13,
    "start_time": "2021-06-15T08:31:27.808Z"
   },
   {
    "duration": 9,
    "start_time": "2021-06-15T08:33:02.399Z"
   },
   {
    "duration": 28,
    "start_time": "2021-06-15T08:33:04.751Z"
   },
   {
    "duration": 459,
    "start_time": "2021-06-15T08:33:06.672Z"
   },
   {
    "duration": 15,
    "start_time": "2021-06-15T08:33:37.430Z"
   },
   {
    "duration": 399,
    "start_time": "2021-06-16T06:21:25.441Z"
   },
   {
    "duration": 1683,
    "start_time": "2021-06-16T06:21:29.117Z"
   },
   {
    "duration": 54,
    "start_time": "2021-06-16T06:21:30.804Z"
   },
   {
    "duration": 15,
    "start_time": "2021-06-16T06:21:30.862Z"
   },
   {
    "duration": 75,
    "start_time": "2021-06-16T06:21:30.880Z"
   },
   {
    "duration": 85,
    "start_time": "2021-06-16T06:21:30.958Z"
   },
   {
    "duration": 7,
    "start_time": "2021-06-16T06:21:31.046Z"
   },
   {
    "duration": 194,
    "start_time": "2021-06-16T06:21:31.056Z"
   },
   {
    "duration": 6069,
    "start_time": "2021-06-16T06:21:31.253Z"
   },
   {
    "duration": 2041,
    "start_time": "2021-06-16T06:21:37.328Z"
   },
   {
    "duration": 12,
    "start_time": "2021-06-16T06:21:39.372Z"
   },
   {
    "duration": 12,
    "start_time": "2021-06-16T06:21:39.410Z"
   },
   {
    "duration": 90,
    "start_time": "2021-06-16T06:21:39.424Z"
   },
   {
    "duration": 595,
    "start_time": "2021-06-16T06:21:39.518Z"
   },
   {
    "duration": 17,
    "start_time": "2021-06-16T06:21:40.115Z"
   },
   {
    "duration": 11,
    "start_time": "2021-06-16T06:21:40.135Z"
   },
   {
    "duration": 7,
    "start_time": "2021-06-16T06:24:07.218Z"
   },
   {
    "duration": 67,
    "start_time": "2021-06-16T06:24:07.229Z"
   },
   {
    "duration": 25,
    "start_time": "2021-06-16T06:24:07.299Z"
   },
   {
    "duration": 24,
    "start_time": "2021-06-16T06:24:07.327Z"
   },
   {
    "duration": 104,
    "start_time": "2021-06-16T06:24:07.353Z"
   },
   {
    "duration": 6,
    "start_time": "2021-06-16T06:24:07.459Z"
   },
   {
    "duration": 47,
    "start_time": "2021-06-16T06:24:07.468Z"
   },
   {
    "duration": 6172,
    "start_time": "2021-06-16T06:24:07.518Z"
   },
   {
    "duration": 1982,
    "start_time": "2021-06-16T06:24:13.692Z"
   },
   {
    "duration": 32,
    "start_time": "2021-06-16T06:24:15.677Z"
   },
   {
    "duration": 12,
    "start_time": "2021-06-16T06:24:15.711Z"
   },
   {
    "duration": 32,
    "start_time": "2021-06-16T06:24:15.725Z"
   },
   {
    "duration": 571,
    "start_time": "2021-06-16T06:24:15.810Z"
   },
   {
    "duration": 27,
    "start_time": "2021-06-16T06:24:16.383Z"
   },
   {
    "duration": 13,
    "start_time": "2021-06-16T06:24:16.412Z"
   },
   {
    "duration": 141830,
    "start_time": "2021-06-16T06:24:16.427Z"
   },
   {
    "duration": 1767,
    "start_time": "2021-06-16T06:26:38.260Z"
   },
   {
    "duration": 25,
    "start_time": "2021-06-16T06:26:40.029Z"
   },
   {
    "duration": 8046,
    "start_time": "2021-06-16T06:26:40.057Z"
   },
   {
    "duration": 9,
    "start_time": "2021-06-16T06:26:48.109Z"
   },
   {
    "duration": 28,
    "start_time": "2021-06-16T06:26:48.122Z"
   },
   {
    "duration": 19,
    "start_time": "2021-06-16T06:26:48.153Z"
   },
   {
    "duration": 17,
    "start_time": "2021-06-16T06:27:16.170Z"
   },
   {
    "duration": 535,
    "start_time": "2021-06-16T06:37:12.513Z"
   },
   {
    "duration": 453,
    "start_time": "2021-06-16T06:37:41.464Z"
   },
   {
    "duration": 19,
    "start_time": "2021-06-16T06:38:00.291Z"
   },
   {
    "duration": 9,
    "start_time": "2021-06-16T06:39:29.828Z"
   },
   {
    "duration": 12,
    "start_time": "2021-06-16T06:39:34.222Z"
   },
   {
    "duration": 22,
    "start_time": "2021-06-16T06:39:35.675Z"
   },
   {
    "duration": 474,
    "start_time": "2021-06-16T06:39:38.218Z"
   },
   {
    "duration": 18,
    "start_time": "2021-06-16T06:39:41.157Z"
   },
   {
    "duration": 16,
    "start_time": "2021-06-16T06:40:21.852Z"
   },
   {
    "duration": 414,
    "start_time": "2021-06-16T10:59:47.494Z"
   },
   {
    "duration": 1599,
    "start_time": "2021-06-16T10:59:57.368Z"
   },
   {
    "duration": 49,
    "start_time": "2021-06-16T10:59:58.971Z"
   },
   {
    "duration": 14,
    "start_time": "2021-06-16T10:59:59.023Z"
   },
   {
    "duration": 17,
    "start_time": "2021-06-16T10:59:59.039Z"
   },
   {
    "duration": 70,
    "start_time": "2021-06-16T10:59:59.086Z"
   },
   {
    "duration": 5,
    "start_time": "2021-06-16T10:59:59.159Z"
   },
   {
    "duration": 38,
    "start_time": "2021-06-16T10:59:59.166Z"
   },
   {
    "duration": 5949,
    "start_time": "2021-06-16T10:59:59.207Z"
   },
   {
    "duration": 1993,
    "start_time": "2021-06-16T11:00:05.162Z"
   },
   {
    "duration": 26,
    "start_time": "2021-06-16T11:00:07.159Z"
   },
   {
    "duration": 10,
    "start_time": "2021-06-16T11:00:07.188Z"
   },
   {
    "duration": 89,
    "start_time": "2021-06-16T11:00:07.201Z"
   },
   {
    "duration": 118,
    "start_time": "2021-06-16T11:00:07.293Z"
   },
   {
    "duration": 561,
    "start_time": "2021-06-16T11:00:07.414Z"
   },
   {
    "duration": 23,
    "start_time": "2021-06-16T11:00:07.977Z"
   },
   {
    "duration": 18,
    "start_time": "2021-06-16T11:00:08.003Z"
   },
   {
    "duration": 143,
    "start_time": "2021-06-16T11:00:08.024Z"
   },
   {
    "duration": 34,
    "start_time": "2021-06-16T11:00:08.135Z"
   },
   {
    "duration": 30,
    "start_time": "2021-06-16T11:00:08.141Z"
   },
   {
    "duration": 27,
    "start_time": "2021-06-16T11:00:08.145Z"
   },
   {
    "duration": 25,
    "start_time": "2021-06-16T11:00:08.149Z"
   },
   {
    "duration": 23,
    "start_time": "2021-06-16T11:00:08.152Z"
   },
   {
    "duration": 21,
    "start_time": "2021-06-16T11:00:08.155Z"
   },
   {
    "duration": 20,
    "start_time": "2021-06-16T11:00:08.158Z"
   },
   {
    "duration": 17,
    "start_time": "2021-06-16T11:00:08.162Z"
   },
   {
    "duration": 13,
    "start_time": "2021-06-16T11:25:16.115Z"
   },
   {
    "duration": 12,
    "start_time": "2021-06-16T11:25:30.830Z"
   },
   {
    "duration": 133609,
    "start_time": "2021-06-16T11:25:39.878Z"
   },
   {
    "duration": 1757,
    "start_time": "2021-06-16T11:33:32.745Z"
   },
   {
    "duration": 27,
    "start_time": "2021-06-16T11:34:06.177Z"
   },
   {
    "duration": 7913,
    "start_time": "2021-06-16T11:58:03.003Z"
   },
   {
    "duration": 8,
    "start_time": "2021-06-16T12:03:27.866Z"
   },
   {
    "duration": 1592,
    "start_time": "2021-06-17T05:19:21.420Z"
   },
   {
    "duration": 52,
    "start_time": "2021-06-17T05:19:23.014Z"
   },
   {
    "duration": 18,
    "start_time": "2021-06-17T05:19:23.069Z"
   },
   {
    "duration": 94,
    "start_time": "2021-06-17T05:19:23.089Z"
   },
   {
    "duration": 5,
    "start_time": "2021-06-17T05:19:23.186Z"
   },
   {
    "duration": 29,
    "start_time": "2021-06-17T05:19:23.193Z"
   },
   {
    "duration": 5766,
    "start_time": "2021-06-17T05:19:23.224Z"
   },
   {
    "duration": 1982,
    "start_time": "2021-06-17T05:19:28.994Z"
   },
   {
    "duration": 9,
    "start_time": "2021-06-17T05:19:30.978Z"
   },
   {
    "duration": 22,
    "start_time": "2021-06-17T05:19:30.990Z"
   },
   {
    "duration": 44,
    "start_time": "2021-06-17T05:19:31.014Z"
   },
   {
    "duration": 198,
    "start_time": "2021-06-17T05:19:31.062Z"
   },
   {
    "duration": 484,
    "start_time": "2021-06-17T05:19:31.263Z"
   },
   {
    "duration": 18,
    "start_time": "2021-06-17T05:19:31.750Z"
   },
   {
    "duration": 18,
    "start_time": "2021-06-17T05:19:31.771Z"
   },
   {
    "duration": 14,
    "start_time": "2021-06-17T05:19:31.792Z"
   },
   {
    "duration": 134806,
    "start_time": "2021-06-17T05:19:31.809Z"
   },
   {
    "duration": 1762,
    "start_time": "2021-06-17T05:21:46.618Z"
   },
   {
    "duration": 25,
    "start_time": "2021-06-17T05:21:48.383Z"
   },
   {
    "duration": 7493,
    "start_time": "2021-06-17T05:21:48.411Z"
   },
   {
    "duration": 8,
    "start_time": "2021-06-17T05:21:55.907Z"
   },
   {
    "duration": 2723,
    "start_time": "2021-06-17T13:03:01.235Z"
   },
   {
    "duration": 96,
    "start_time": "2021-06-17T13:03:03.961Z"
   },
   {
    "duration": 73,
    "start_time": "2021-06-17T13:03:04.060Z"
   },
   {
    "duration": 201,
    "start_time": "2021-06-17T13:03:04.136Z"
   },
   {
    "duration": 26,
    "start_time": "2021-06-17T13:03:04.339Z"
   },
   {
    "duration": 11606,
    "start_time": "2021-06-17T13:03:04.428Z"
   },
   {
    "duration": 3790,
    "start_time": "2021-06-17T13:03:16.037Z"
   },
   {
    "duration": 11,
    "start_time": "2021-06-17T13:03:19.831Z"
   },
   {
    "duration": 12,
    "start_time": "2021-06-17T13:03:19.844Z"
   },
   {
    "duration": 266,
    "start_time": "2021-06-17T13:03:19.859Z"
   },
   {
    "duration": 17,
    "start_time": "2021-06-17T13:03:20.128Z"
   },
   {
    "duration": 1010,
    "start_time": "2021-06-17T13:03:20.147Z"
   },
   {
    "duration": 74,
    "start_time": "2021-06-17T13:03:21.160Z"
   },
   {
    "duration": 17,
    "start_time": "2021-06-17T13:03:21.237Z"
   },
   {
    "duration": 75,
    "start_time": "2021-06-17T13:03:21.257Z"
   },
   {
    "duration": 324707,
    "start_time": "2021-06-17T13:03:21.335Z"
   },
   {
    "duration": 1498,
    "start_time": "2021-06-17T13:08:46.044Z"
   },
   {
    "duration": 86,
    "start_time": "2021-06-17T13:08:47.545Z"
   },
   {
    "duration": 18715,
    "start_time": "2021-06-17T13:08:47.634Z"
   },
   {
    "duration": 8,
    "start_time": "2021-06-17T13:09:06.351Z"
   },
   {
    "duration": 1631,
    "start_time": "2021-06-18T07:05:53.873Z"
   },
   {
    "duration": 50,
    "start_time": "2021-06-18T07:05:55.508Z"
   },
   {
    "duration": 16,
    "start_time": "2021-06-18T07:05:55.561Z"
   },
   {
    "duration": 91,
    "start_time": "2021-06-18T07:05:55.580Z"
   },
   {
    "duration": 37,
    "start_time": "2021-06-18T07:05:55.673Z"
   },
   {
    "duration": 6250,
    "start_time": "2021-06-18T07:05:55.712Z"
   },
   {
    "duration": 2127,
    "start_time": "2021-06-18T07:06:01.964Z"
   },
   {
    "duration": 18,
    "start_time": "2021-06-18T07:06:04.095Z"
   },
   {
    "duration": 11,
    "start_time": "2021-06-18T07:06:04.116Z"
   },
   {
    "duration": 38,
    "start_time": "2021-06-18T07:06:04.129Z"
   },
   {
    "duration": 109,
    "start_time": "2021-06-18T07:06:04.211Z"
   },
   {
    "duration": 491,
    "start_time": "2021-06-18T07:06:04.323Z"
   },
   {
    "duration": 17,
    "start_time": "2021-06-18T07:06:04.816Z"
   },
   {
    "duration": 16,
    "start_time": "2021-06-18T07:06:04.835Z"
   },
   {
    "duration": 13,
    "start_time": "2021-06-18T07:06:04.854Z"
   },
   {
    "duration": 137838,
    "start_time": "2021-06-18T07:06:04.870Z"
   },
   {
    "duration": 1915,
    "start_time": "2021-06-18T07:08:22.710Z"
   },
   {
    "duration": 28,
    "start_time": "2021-06-18T07:08:24.628Z"
   },
   {
    "duration": 7934,
    "start_time": "2021-06-18T07:08:24.659Z"
   },
   {
    "duration": 16,
    "start_time": "2021-06-18T07:08:32.595Z"
   },
   {
    "duration": 1591,
    "start_time": "2021-06-21T05:57:59.227Z"
   },
   {
    "duration": 54,
    "start_time": "2021-06-21T05:58:00.821Z"
   },
   {
    "duration": 23,
    "start_time": "2021-06-21T05:58:00.887Z"
   },
   {
    "duration": 87,
    "start_time": "2021-06-21T05:58:00.912Z"
   },
   {
    "duration": 23,
    "start_time": "2021-06-21T05:58:01.001Z"
   },
   {
    "duration": 6284,
    "start_time": "2021-06-21T05:58:01.027Z"
   },
   {
    "duration": 2054,
    "start_time": "2021-06-21T05:58:07.314Z"
   },
   {
    "duration": 22,
    "start_time": "2021-06-21T05:58:09.371Z"
   },
   {
    "duration": 9,
    "start_time": "2021-06-21T05:58:09.402Z"
   },
   {
    "duration": 170,
    "start_time": "2021-06-21T05:58:09.414Z"
   },
   {
    "duration": 21,
    "start_time": "2021-06-21T05:58:09.588Z"
   },
   {
    "duration": 527,
    "start_time": "2021-06-21T05:58:09.611Z"
   },
   {
    "duration": 19,
    "start_time": "2021-06-21T05:58:10.141Z"
   },
   {
    "duration": 36,
    "start_time": "2021-06-21T05:58:10.163Z"
   },
   {
    "duration": 18,
    "start_time": "2021-06-21T05:58:10.202Z"
   },
   {
    "duration": 166224,
    "start_time": "2021-06-21T05:58:10.222Z"
   },
   {
    "duration": 1974,
    "start_time": "2021-06-21T06:00:56.449Z"
   },
   {
    "duration": 37,
    "start_time": "2021-06-21T06:00:58.426Z"
   },
   {
    "duration": 12633,
    "start_time": "2021-06-21T06:00:58.486Z"
   },
   {
    "duration": 11,
    "start_time": "2021-06-21T06:01:11.123Z"
   },
   {
    "duration": 18521,
    "start_time": "2021-06-21T06:06:14.716Z"
   },
   {
    "duration": 17863,
    "start_time": "2021-06-21T06:08:13.525Z"
   },
   {
    "duration": 1503,
    "start_time": "2021-07-29T14:10:45.292Z"
   },
   {
    "duration": 49,
    "start_time": "2021-07-29T14:10:46.798Z"
   },
   {
    "duration": 23,
    "start_time": "2021-07-29T14:10:46.850Z"
   },
   {
    "duration": 87,
    "start_time": "2021-07-29T14:10:46.876Z"
   },
   {
    "duration": 24,
    "start_time": "2021-07-29T14:10:46.965Z"
   },
   {
    "duration": 5793,
    "start_time": "2021-07-29T14:10:46.991Z"
   },
   {
    "duration": 1944,
    "start_time": "2021-07-29T14:10:52.786Z"
   },
   {
    "duration": 8,
    "start_time": "2021-07-29T14:10:54.733Z"
   },
   {
    "duration": 10,
    "start_time": "2021-07-29T14:10:54.756Z"
   },
   {
    "duration": 27,
    "start_time": "2021-07-29T14:10:54.769Z"
   },
   {
    "duration": 163,
    "start_time": "2021-07-29T14:10:54.800Z"
   },
   {
    "duration": 481,
    "start_time": "2021-07-29T14:10:54.966Z"
   },
   {
    "duration": 21,
    "start_time": "2021-07-29T14:10:55.449Z"
   },
   {
    "duration": 18,
    "start_time": "2021-07-29T14:10:55.473Z"
   },
   {
    "duration": 33,
    "start_time": "2021-07-29T14:10:55.493Z"
   },
   {
    "duration": 139214,
    "start_time": "2021-07-29T14:10:55.529Z"
   },
   {
    "duration": 1424,
    "start_time": "2021-07-29T14:13:14.746Z"
   },
   {
    "duration": 24,
    "start_time": "2021-07-29T14:13:16.173Z"
   }
  ],
  "kernelspec": {
   "display_name": "Python 3",
   "language": "python",
   "name": "python3"
  },
  "language_info": {
   "codemirror_mode": {
    "name": "ipython",
    "version": 3
   },
   "file_extension": ".py",
   "mimetype": "text/x-python",
   "name": "python",
   "nbconvert_exporter": "python",
   "pygments_lexer": "ipython3",
   "version": "3.7.8"
  },
  "toc": {
   "base_numbering": 1,
   "nav_menu": {},
   "number_sections": true,
   "sideBar": true,
   "skip_h1_title": true,
   "title_cell": "Оглавление",
   "title_sidebar": "Contents",
   "toc_cell": true,
   "toc_position": {
    "height": "518px",
    "left": "119px",
    "top": "110px",
    "width": "269px"
   },
   "toc_section_display": true,
   "toc_window_display": true
  }
 },
 "nbformat": 4,
 "nbformat_minor": 2
}
